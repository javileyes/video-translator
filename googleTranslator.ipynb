{
 "cells": [
  {
   "cell_type": "markdown",
   "metadata": {},
   "source": [
    "He ejecutado esto tanto en el servidor remoto con SOCKs como en la máquin WSL local."
   ]
  },
  {
   "cell_type": "code",
   "execution_count": null,
   "metadata": {},
   "outputs": [],
   "source": [
    "!pip install googletrans==4.0.0-rc1 PySocks"
   ]
  },
  {
   "cell_type": "markdown",
   "metadata": {},
   "source": [
    "# Googletrans API google translator gratis (usar con cuidado) (usar con proxy socks)"
   ]
  },
  {
   "cell_type": "code",
   "execution_count": null,
   "metadata": {},
   "outputs": [],
   "source": [
    "%pip install googletrans==3.1.0a0"
   ]
  },
  {
   "cell_type": "markdown",
   "metadata": {},
   "source": [
    "## Sin proxy SOCKs\n"
   ]
  },
  {
   "cell_type": "code",
   "execution_count": 5,
   "metadata": {},
   "outputs": [
    {
     "name": "stdout",
     "output_type": "stream",
     "text": [
      "¡Hola Mundo!\n",
      "¿Cómo estás?\n",
      "Esto es una prueba.\n"
     ]
    }
   ],
   "source": [
    "import socks\n",
    "import socket\n",
    "import time\n",
    "import random\n",
    "from googletrans import Translator\n",
    "\n",
    "# IP = \"74.208.163.90\"\n",
    "# # Configura el proxy SOCKS\n",
    "# socks.set_default_proxy(socks.SOCKS5, IP, 5559, True)  # Reemplaza \"IP\" con tu dirección IP real\n",
    "# socket.socket = socks.socksocket\n",
    "# socket.AF_INET = 2  # Establece explícitamente el tipo de socket a IPv4\n",
    "\n",
    "\n",
    "def traducir_eng_spa(texto):\n",
    "    traductor = Translator()\n",
    "    return traductor.translate(texto, src='en', dest='es').text\n",
    "\n",
    "# Lista de textos a traducir\n",
    "textos = [\"Hello, world!\", \"How are you?\", \"This is a test.\"]\n",
    "\n",
    "# Iterar sobre los textos y traducir cada uno\n",
    "for texto in textos:\n",
    "    texto_traducido = traducir_eng_spa(texto)\n",
    "    print(texto_traducido)\n",
    "\n",
    "    # Genera una pausa aleatoria entre 1 y 2 segundos\n",
    "    time.sleep(random.uniform(1, 2))\n"
   ]
  },
  {
   "cell_type": "markdown",
   "metadata": {},
   "source": [
    "## Usar con proxy socks"
   ]
  },
  {
   "cell_type": "code",
   "execution_count": 2,
   "metadata": {},
   "outputs": [],
   "source": [
    "puertosocks = 5559"
   ]
  },
  {
   "cell_type": "markdown",
   "metadata": {},
   "source": [
    "Ejecutar sino existe el fichero ssh_tunnel:"
   ]
  },
  {
   "cell_type": "code",
   "execution_count": 90,
   "metadata": {},
   "outputs": [
    {
     "name": "stdout",
     "output_type": "stream",
     "text": [
      "Overwriting ssh_tunnel.sh\n"
     ]
    }
   ],
   "source": [
    "%%writefile ssh_tunnel.sh\n",
    "#!/bin/bash\n",
    "ssh -i .ssh/tunel -N root@74.208.163.90 -D \"$1\""
   ]
  },
  {
   "cell_type": "code",
   "execution_count": 89,
   "metadata": {},
   "outputs": [],
   "source": [
    "!chmod +x ssh_tunnel.sh"
   ]
  },
  {
   "cell_type": "markdown",
   "metadata": {},
   "source": [
    "## Creamos un proceso robusto en segundo plano que se encarga de mantener el túnel ssh abierto"
   ]
  },
  {
   "cell_type": "code",
   "execution_count": 92,
   "metadata": {},
   "outputs": [
    {
     "name": "stdout",
     "output_type": "stream",
     "text": [
      "\u001b[32m[PM2] \u001b[39mStarting /mnt/d/DeveloperIA/video-translator/ssh_tunnel.sh in fork_mode (1 instance)\n",
      "\u001b[32m[PM2] \u001b[39mDone.\n",
      "\u001b[90m┌────┬──────────────────┬─────────────┬─────────┬─────────┬──────────┬────────┬──────┬───────────┬──────────┬──────────┬──────────┬──────────┐\u001b[39m\n",
      "\u001b[90m│\u001b[39m\u001b[1m\u001b[36m id \u001b[39m\u001b[22m\u001b[90m│\u001b[39m\u001b[1m\u001b[36m name             \u001b[39m\u001b[22m\u001b[90m│\u001b[39m\u001b[1m\u001b[36m namespace   \u001b[39m\u001b[22m\u001b[90m│\u001b[39m\u001b[1m\u001b[36m version \u001b[39m\u001b[22m\u001b[90m│\u001b[39m\u001b[1m\u001b[36m mode    \u001b[39m\u001b[22m\u001b[90m│\u001b[39m\u001b[1m\u001b[36m pid      \u001b[39m\u001b[22m\u001b[90m│\u001b[39m\u001b[1m\u001b[36m uptime \u001b[39m\u001b[22m\u001b[90m│\u001b[39m\u001b[1m\u001b[36m ↺    \u001b[39m\u001b[22m\u001b[90m│\u001b[39m\u001b[1m\u001b[36m status    \u001b[39m\u001b[22m\u001b[90m│\u001b[39m\u001b[1m\u001b[36m cpu      \u001b[39m\u001b[22m\u001b[90m│\u001b[39m\u001b[1m\u001b[36m mem      \u001b[39m\u001b[22m\u001b[90m│\u001b[39m\u001b[1m\u001b[36m user     \u001b[39m\u001b[22m\u001b[90m│\u001b[39m\u001b[1m\u001b[36m watching \u001b[39m\u001b[22m\u001b[90m│\u001b[39m\n",
      "\u001b[90m├────┼──────────────────┼─────────────┼─────────┼─────────┼──────────┼────────┼──────┼───────────┼──────────┼──────────┼──────────┼──────────┤\u001b[39m\n",
      "\u001b[90m│\u001b[39m\u001b[1m\u001b[36m \u001b[1m\u001b[36m0\u001b[39m\u001b[36m\u001b[22m\u001b[1m  \u001b[39m\u001b[22m\u001b[90m│\u001b[39m neo4j console    \u001b[90m│\u001b[39m default     \u001b[90m│\u001b[39m N/A     \u001b[90m│\u001b[39m \u001b[7m\u001b[1mfork\u001b[22m\u001b[27m    \u001b[90m│\u001b[39m 27838    \u001b[90m│\u001b[39m 3D     \u001b[90m│\u001b[39m 0    \u001b[90m│\u001b[39m \u001b[32m\u001b[1monline\u001b[22m\u001b[39m    \u001b[90m│\u001b[39m 0%       \u001b[90m│\u001b[39m 7.5mb    \u001b[90m│\u001b[39m \u001b[1mjavier\u001b[22m   \u001b[90m│\u001b[39m \u001b[90mdisabled\u001b[39m \u001b[90m│\u001b[39m\n",
      "\u001b[90m│\u001b[39m\u001b[1m\u001b[36m \u001b[1m\u001b[36m5\u001b[39m\u001b[36m\u001b[22m\u001b[1m  \u001b[39m\u001b[22m\u001b[90m│\u001b[39m ssh_tunnel       \u001b[90m│\u001b[39m default     \u001b[90m│\u001b[39m N/A     \u001b[90m│\u001b[39m \u001b[7m\u001b[1mfork\u001b[22m\u001b[27m    \u001b[90m│\u001b[39m 26478    \u001b[90m│\u001b[39m 0s     \u001b[90m│\u001b[39m 0    \u001b[90m│\u001b[39m \u001b[32m\u001b[1monline\u001b[22m\u001b[39m    \u001b[90m│\u001b[39m 0%       \u001b[90m│\u001b[39m 3.2mb    \u001b[90m│\u001b[39m \u001b[1mjavier\u001b[22m   \u001b[90m│\u001b[39m \u001b[90mdisabled\u001b[39m \u001b[90m│\u001b[39m\n",
      "\u001b[90m└────┴──────────────────┴─────────────┴─────────┴─────────┴──────────┴────────┴──────┴───────────┴──────────┴──────────┴──────────┴──────────┘\u001b[39m\n"
     ]
    },
    {
     "data": {
      "text/plain": [
       "CompletedProcess(args=['pm2', 'start', 'ssh_tunnel.sh', '--', '5559'], returncode=0)"
      ]
     },
     "execution_count": 92,
     "metadata": {},
     "output_type": "execute_result"
    }
   ],
   "source": [
    "import subprocess\n",
    "\n",
    "# Comando para ejecutar el script con pm2\n",
    "cmd = [\"pm2\", \"start\", \"ssh_tunnel.sh\", \"--\", puertosocks]\n",
    "\n",
    "# Ejecutar el comando\n",
    "subprocess.run(cmd)\n"
   ]
  },
  {
   "cell_type": "markdown",
   "metadata": {},
   "source": [
    "No funciona por culpa de que la contraseña está encriptada en el fichero de configuración de proxy socks."
   ]
  },
  {
   "cell_type": "code",
   "execution_count": 4,
   "metadata": {},
   "outputs": [
    {
     "name": "stdout",
     "output_type": "stream",
     "text": [
      "\u001b[90m┌────┬────────────────────┬──────────┬──────┬───────────┬──────────┬──────────┐\u001b[39m\n",
      "\u001b[90m│\u001b[39m\u001b[1m\u001b[36m id \u001b[39m\u001b[22m\u001b[90m│\u001b[39m\u001b[1m\u001b[36m name               \u001b[39m\u001b[22m\u001b[90m│\u001b[39m\u001b[1m\u001b[36m mode     \u001b[39m\u001b[22m\u001b[90m│\u001b[39m\u001b[1m\u001b[36m ↺    \u001b[39m\u001b[22m\u001b[90m│\u001b[39m\u001b[1m\u001b[36m status    \u001b[39m\u001b[22m\u001b[90m│\u001b[39m\u001b[1m\u001b[36m cpu      \u001b[39m\u001b[22m\u001b[90m│\u001b[39m\u001b[1m\u001b[36m memory   \u001b[39m\u001b[22m\u001b[90m│\u001b[39m\n",
      "\u001b[90m├────┼────────────────────┼──────────┼──────┼───────────┼──────────┼──────────┤\u001b[39m\n",
      "\u001b[90m│\u001b[39m\u001b[1m\u001b[36m \u001b[1m\u001b[36m0\u001b[39m\u001b[36m\u001b[22m\u001b[1m  \u001b[39m\u001b[22m\u001b[90m│\u001b[39m neo4j console      \u001b[90m│\u001b[39m \u001b[7m\u001b[1mfork\u001b[22m\u001b[27m     \u001b[90m│\u001b[39m 0    \u001b[90m│\u001b[39m \u001b[32m\u001b[1monline\u001b[22m\u001b[39m    \u001b[90m│\u001b[39m 0%       \u001b[90m│\u001b[39m 7.5mb    \u001b[90m│\u001b[39m\n",
      "\u001b[90m│\u001b[39m\u001b[1m\u001b[36m \u001b[1m\u001b[36m5\u001b[39m\u001b[36m\u001b[22m\u001b[1m  \u001b[39m\u001b[22m\u001b[90m│\u001b[39m ssh_tunnel         \u001b[90m│\u001b[39m \u001b[7m\u001b[1mfork\u001b[22m\u001b[27m     \u001b[90m│\u001b[39m 0    \u001b[90m│\u001b[39m \u001b[32m\u001b[1monline\u001b[22m\u001b[39m    \u001b[90m│\u001b[39m 0%       \u001b[90m│\u001b[39m 3.2mb    \u001b[90m│\u001b[39m\n",
      "\u001b[90m└────┴────────────────────┴──────────┴──────┴───────────┴──────────┴──────────┘\u001b[39m\n"
     ]
    }
   ],
   "source": [
    "!pm2 list"
   ]
  },
  {
   "cell_type": "code",
   "execution_count": 85,
   "metadata": {},
   "outputs": [
    {
     "name": "stdout",
     "output_type": "stream",
     "text": [
      "\u001b[32m[PM2] \u001b[39mApplying action deleteProcessId on app [ssh_tunnel](ids: [ 4 ])\n",
      "\u001b[32m[PM2] \u001b[39m[ssh_tunnel](4) ✓\n",
      "\u001b[90m┌────┬────────────────────┬──────────┬──────┬───────────┬──────────┬──────────┐\u001b[39m\n",
      "\u001b[90m│\u001b[39m\u001b[1m\u001b[36m id \u001b[39m\u001b[22m\u001b[90m│\u001b[39m\u001b[1m\u001b[36m name               \u001b[39m\u001b[22m\u001b[90m│\u001b[39m\u001b[1m\u001b[36m mode     \u001b[39m\u001b[22m\u001b[90m│\u001b[39m\u001b[1m\u001b[36m ↺    \u001b[39m\u001b[22m\u001b[90m│\u001b[39m\u001b[1m\u001b[36m status    \u001b[39m\u001b[22m\u001b[90m│\u001b[39m\u001b[1m\u001b[36m cpu      \u001b[39m\u001b[22m\u001b[90m│\u001b[39m\u001b[1m\u001b[36m memory   \u001b[39m\u001b[22m\u001b[90m│\u001b[39m\n",
      "\u001b[90m├────┼────────────────────┼──────────┼──────┼───────────┼──────────┼──────────┤\u001b[39m\n",
      "\u001b[90m│\u001b[39m\u001b[1m\u001b[36m \u001b[1m\u001b[36m0\u001b[39m\u001b[36m\u001b[22m\u001b[1m  \u001b[39m\u001b[22m\u001b[90m│\u001b[39m neo4j console      \u001b[90m│\u001b[39m \u001b[7m\u001b[1mfork\u001b[22m\u001b[27m     \u001b[90m│\u001b[39m 0    \u001b[90m│\u001b[39m \u001b[32m\u001b[1monline\u001b[22m\u001b[39m    \u001b[90m│\u001b[39m 0%       \u001b[90m│\u001b[39m 7.5mb    \u001b[90m│\u001b[39m\n",
      "\u001b[90m└────┴────────────────────┴──────────┴──────┴───────────┴──────────┴──────────┘\u001b[39m\n"
     ]
    }
   ],
   "source": [
    "# si queremos borrar el proceso\n",
    "# !pm2 delete ssh_tunnel"
   ]
  },
  {
   "cell_type": "code",
   "execution_count": 8,
   "metadata": {},
   "outputs": [
    {
     "name": "stdout",
     "output_type": "stream",
     "text": [
      "COMMAND   PID   USER   FD   TYPE   DEVICE SIZE/OFF NODE NAME\n",
      "ssh     26479 javier    4u  IPv4 14616200      0t0  TCP localhost:5559 (LISTEN)\n"
     ]
    }
   ],
   "source": [
    "!lsof -i :{puertosocks}\n"
   ]
  },
  {
   "cell_type": "code",
   "execution_count": 76,
   "metadata": {},
   "outputs": [],
   "source": [
    "# !kill -9 19841"
   ]
  },
  {
   "cell_type": "code",
   "execution_count": 95,
   "metadata": {},
   "outputs": [
    {
     "name": "stdout",
     "output_type": "stream",
     "text": [
      "root       240  0.0  0.0  15428  1656 ?        Ss   Nov13   0:00 sshd: /usr/sbin/sshd [listener] 0 of 10-100 startups\n",
      "javier   14789  0.0  0.0      0     0 ?        Z    16:34   0:00 [sshpass] <defunct>\n",
      "root     24996  0.0  0.0  16880  4760 ?        Ss   09:45   0:00 sshd: javier [priv]\n",
      "javier   25022  0.0  0.0  17736  4228 ?        S    09:45   0:01 sshd: javier@notty\n",
      "javier   26478  0.0  0.0   4780  3324 ?        Ss   17:29   0:00 bash /mnt/d/DeveloperIA/video-translator/ssh_tunnel.sh 5559\n",
      "javier   26479  0.0  0.0  11716  8192 ?        S    17:29   0:00 ssh -i .ssh/tunel -N root@74.208.163.90 -D 5559\n",
      "javier   26594  0.0  0.0   4780  3296 pts/0    Ss+  17:29   0:00 /bin/bash -c ps aux | grep 'ssh'\n",
      "javier   26596  0.0  0.0   4024  2000 pts/0    S+   17:29   0:00 grep ssh\n",
      "root     28723  0.0  0.0  16884  4688 ?        Ss   10:00   0:00 sshd: javier [priv]\n",
      "javier   28749  0.0  0.0  18480  5592 ?        S    10:00   0:03 sshd: javier@notty\n"
     ]
    }
   ],
   "source": [
    "!ps aux | grep 'ssh'"
   ]
  },
  {
   "cell_type": "markdown",
   "metadata": {},
   "source": [
    "Ejecutamos servicios mediante el proxy socks"
   ]
  },
  {
   "cell_type": "code",
   "execution_count": 6,
   "metadata": {},
   "outputs": [
    {
     "name": "stdout",
     "output_type": "stream",
     "text": [
      "Conectando a SSH a root@74.208.163.90 -p 22...\n",
      "Conexión SSH establecida.\n",
      "Configurando el proxy SOCKS en localhost:5559...\n",
      "Realizando solicitud HTTP...\n",
      "New York: ☀️   +12°C\n",
      "\n",
      "¡Hola Mundo!\n",
      "¿Cómo estás?\n",
      "Esto es una prueba.\n",
      "Conexión SSH cerrada.\n"
     ]
    }
   ],
   "source": [
    "import paramiko\n",
    "from paramiko import SSHClient\n",
    "import socket\n",
    "import socks\n",
    "import requests\n",
    "import time\n",
    "import random\n",
    "import getpass\n",
    "from googletrans import Translator\n",
    "\n",
    "\n",
    "# Configuración del servidor SSH y credenciales\n",
    "ssh_host = \"74.208.163.90\"  # IP del servidor SSH\n",
    "ssh_port = 22               # Puerto SSH\n",
    "username = \"root\"     # Tu usuario SSH\n",
    "path_to_private_key = \"./.ssh/tunel\"  # Ruta a tu clave privada SSH\n",
    "# private_key_password = \"Cony620438292\"#getpass.getpass(\"Ingresa la frase de contraseña de tu clave privada: \")\n",
    "\n",
    "try:\n",
    "    # Configura un cliente SSH y conecta al servidor\n",
    "    ssh = SSHClient()\n",
    "    ssh.load_system_host_keys()\n",
    "    ssh.set_missing_host_key_policy(paramiko.AutoAddPolicy())\n",
    "\n",
    "    my_key = paramiko.RSAKey.from_private_key_file(path_to_private_key)\n",
    "    print(f\"Conectando a SSH a {username}@{ssh_host} -p {ssh_port}...\")\n",
    "    try:\n",
    "        ssh.connect(hostname=ssh_host, port=ssh_port, username=username, pkey=my_key)\n",
    "        print(\"Conexión SSH establecida.\")\n",
    "    except paramiko.ssh_exception.AuthenticationException:\n",
    "        print(\"Error: credenciales inválidas.\")\n",
    "        exit()\n",
    "    except Exception as e:\n",
    "        print(f\"Error al principio de establecer la conexión SSH: {e}\")\n",
    "        exit()    \n",
    "\n",
    "    # Configurar el reenvío de puertos\n",
    "    local_bind_port = puertosocks\n",
    "    ssh_transport = ssh.get_transport()\n",
    "    remote_bind_address = ('localhost', local_bind_port)\n",
    "    ssh_transport.request_port_forward(address=remote_bind_address[0], port=remote_bind_address[1])\n",
    "\n",
    "    # Configura el proxy SOCKS\n",
    "    print(f\"Configurando el proxy SOCKS en {remote_bind_address[0]}:{remote_bind_address[1]}...\")\n",
    "    socks.set_default_proxy(socks.SOCKS5, \"localhost\", local_bind_port, True)\n",
    "    socket.socket = socks.socksocket\n",
    "    socket.AF_INET = 2  # IPv4\n",
    "\n",
    "    def obtener_clima_ny():\n",
    "        URL = \"http://wttr.in/New%20York?format=3\"\n",
    "        print(\"Realizando solicitud HTTP...\")\n",
    "        respuesta = requests.get(URL, timeout=10)\n",
    "        return respuesta.text\n",
    "\n",
    "    # Ejecutar y mostrar la información del clima\n",
    "    # for _ in range(3):\n",
    "    try:\n",
    "        clima = obtener_clima_ny()\n",
    "        print(clima)\n",
    "    except Exception as e:\n",
    "        print(f\"Error al realizar la solicitud HTTP: {e}\")\n",
    "\n",
    "        # Pausa\n",
    "        # time.sleep(random.uniform(1, 2))\n",
    "\n",
    "    def traducir_eng_spa(texto):\n",
    "        traductor = Translator()\n",
    "        return traductor.translate(texto, src='en', dest='es').text\n",
    "\n",
    "    # Lista de textos a traducir\n",
    "    textos = [\"Hello, world!\", \"How are you?\", \"This is a test.\"]\n",
    "\n",
    "    # Iterar sobre los textos y traducir cada uno\n",
    "    for texto in textos:\n",
    "        try:\n",
    "            texto_traducido = traducir_eng_spa(texto)\n",
    "            print(texto_traducido)\n",
    "        except Exception as e:\n",
    "            print(f\"Error al realizar la traducción: {e}\")\n",
    "\n",
    "        # Pausa\n",
    "        time.sleep(random.uniform(1, 2))\n",
    "\n",
    "\n",
    "\n",
    "\n",
    "except Exception as e:\n",
    "    print(f\"Error al establecer la conexión SSH: {e}\")\n",
    "\n",
    "finally:\n",
    "    # Cerrar la conexión SSH si está abierta\n",
    "    if ssh:\n",
    "        ssh.close()\n",
    "        print(\"Conexión SSH cerrada.\")\n"
   ]
  },
  {
   "cell_type": "markdown",
   "metadata": {},
   "source": [
    "No es necesario hacer esto:\n",
    "```bash\n",
    "sudo vi /etc/sysctl.conf\n",
    "#poner estas lineas al final para desactivar ipv6\n",
    "net.ipv6.conf.all.disable_ipv6 = 1\n",
    "net.ipv6.conf.default.disable_ipv6 = 1\n",
    "net.ipv6.conf.lo.disable_ipv6 = 1\n",
    "\n",
    "\n",
    "# Para desactivar ipv6 en el kernel\n",
    "sudo sysctl -p\n",
    "\n",
    "# Para borrar caches de DNS (depende del sistema, si no se actualiza el DNS)\n",
    "sudo systemd-resolve --flush-caches\n",
    "\n",
    "# Para comprobar que se ha desactivado\n",
    "ip a | grep inet6\n",
    "\n",
    "# también se puede comprobar con\n",
    "cat /proc/sys/net/ipv6/conf/all/disable_ipv6\n",
    "```"
   ]
  },
  {
   "cell_type": "code",
   "execution_count": 3,
   "metadata": {},
   "outputs": [
    {
     "name": "stdout",
     "output_type": "stream",
     "text": [
      "Realizando solicitud HTTP...\n",
      "New York: ☀️   +8°C\n",
      "\n"
     ]
    }
   ],
   "source": [
    "# import paramiko\n",
    "# from paramiko import SSHClient\n",
    "import socket\n",
    "import socks\n",
    "import requests\n",
    "import time\n",
    "import random\n",
    "import getpass\n",
    "from googletrans import Translator\n",
    "\n",
    "\n",
    "# Configuración del servidor SSH y credenciales\n",
    "ssh_host = \"74.208.163.90\"  # IP del servidor SSH\n",
    "ssh_port = 22               # Puerto SSH\n",
    "username = \"root\"     # Tu usuario SSH\n",
    "path_to_private_key = \"/home/javier/.ssh/id_rsa\"  # Ruta a tu clave privada SSH\n",
    "private_key_password = \"Cony620438292\"#getpass.getpass(\"Ingresa la frase de contraseña de tu clave privada: \")\n",
    "\n",
    "try:\n",
    "    # # Configura un cliente SSH y conecta al servidor\n",
    "    # ssh = SSHClient()\n",
    "    # ssh.load_system_host_keys()\n",
    "    # ssh.set_missing_host_key_policy(paramiko.AutoAddPolicy())\n",
    "\n",
    "    # my_key = paramiko.RSAKey.from_private_key_file(path_to_private_key, password=private_key_password)\n",
    "    # print(\"Conectando a SSH...\")\n",
    "    # ssh.connect(ssh_host, port=ssh_port, username=username, pkey=my_key)\n",
    "    # print(\"Conexión SSH establecida.\")\n",
    "\n",
    "    # # Configurar el reenvío de puertos\n",
    "    # local_bind_port = 5559\n",
    "    # ssh_transport = ssh.get_transport()\n",
    "    # remote_bind_address = ('localhost', local_bind_port)\n",
    "    # ssh_transport.request_port_forward(address=remote_bind_address[0], port=remote_bind_address[1])\n",
    "\n",
    "    # # Configura el proxy SOCKS\n",
    "    # socks.set_default_proxy(socks.SOCKS5, \"localhost\", local_bind_port, True)\n",
    "    # socket.socket = socks.socksocket\n",
    "    # socket.AF_INET = 2  # IPv4\n",
    "\n",
    "    def obtener_clima_ny():\n",
    "        URL = \"http://wttr.in/New%20York?format=3\"\n",
    "        print(\"Realizando solicitud HTTP...\")\n",
    "        respuesta = requests.get(URL, timeout=10)\n",
    "        return respuesta.text\n",
    "\n",
    "    # Ejecutar y mostrar la información del clima\n",
    "    # for _ in range(3):\n",
    "    try:\n",
    "        clima = obtener_clima_ny()\n",
    "        print(clima)\n",
    "    except Exception as e:\n",
    "        print(f\"Error al realizar la solicitud HTTP: {e}\")\n",
    "\n",
    "        # Pausa\n",
    "        # time.sleep(random.uniform(1, 2))\n",
    "\n",
    "    # def traducir_eng_spa(texto):\n",
    "    #     traductor = Translator()\n",
    "    #     return traductor.translate(texto, src='en', dest='es').text\n",
    "\n",
    "    # # Lista de textos a traducir\n",
    "    # textos = [\"Hello, world!\", \"How are you?\", \"This is a test.\"]\n",
    "\n",
    "    # # Iterar sobre los textos y traducir cada uno\n",
    "    # for texto in textos:\n",
    "    #     try:\n",
    "    #         texto_traducido = traducir_eng_spa(texto)\n",
    "    #         print(texto_traducido)\n",
    "    #     except Exception as e:\n",
    "    #         print(f\"Error al realizar la traducción: {e}\")\n",
    "\n",
    "    #     # Pausa\n",
    "    #     time.sleep(random.uniform(1, 2))\n",
    "\n",
    "except Exception as e:\n",
    "    print(f\"Error al establecer la conexión SSH: {e}\")\n",
    "\n",
    "# finally:\n",
    "    # Cerrar la conexión SSH si está abierta\n",
    "    # if ssh:\n",
    "    #     ssh.close()\n",
    "    #     print(\"Conexión SSH cerrada.\")\n"
   ]
  },
  {
   "cell_type": "code",
   "execution_count": 4,
   "metadata": {},
   "outputs": [
    {
     "name": "stdout",
     "output_type": "stream",
     "text": [
      "Traduciendo: Hello, world! (tipo: <class 'str'>)\n",
      "Error al realizar la traducción: 'list' object has no attribute 'strip'\n",
      "Traduciendo: How are you? (tipo: <class 'str'>)\n",
      "Error al realizar la traducción: 'list' object has no attribute 'strip'\n",
      "Traduciendo: This is a test. (tipo: <class 'str'>)\n",
      "Error al realizar la traducción: 'list' object has no attribute 'strip'\n"
     ]
    }
   ],
   "source": [
    "from textblob import TextBlob\n",
    "import time\n",
    "import random\n",
    "\n",
    "def traducir_eng_spa(texto):\n",
    "    # Imprimir el tipo de dato y el contenido de 'texto'\n",
    "    print(f\"Traduciendo: {texto} (tipo: {type(texto)})\")\n",
    "\n",
    "    # Verificar que 'texto' sea una cadena (string)\n",
    "    if isinstance(texto, str):\n",
    "        blob = TextBlob(texto)\n",
    "        return str(blob.translate(to='es'))\n",
    "    else:\n",
    "        raise TypeError(\"El texto a traducir debe ser una cadena (string), no un/a {type(texto)}.\")\n",
    "\n",
    "# Lista de textos a traducir\n",
    "textos = [\"Hello, world!\", \"How are you?\", \"This is a test.\"]\n",
    "\n",
    "# Iterar sobre los textos y traducir cada uno\n",
    "for texto in textos:\n",
    "    try:\n",
    "        texto_traducido = traducir_eng_spa(texto)\n",
    "        print(texto_traducido)\n",
    "    except Exception as e:\n",
    "        print(f\"Error al realizar la traducción: {e}\")\n",
    "\n",
    "    # Pausa\n",
    "    time.sleep(random.uniform(1, 2))\n"
   ]
  }
 ],
 "metadata": {
  "kernelspec": {
   "display_name": "mistral",
   "language": "python",
   "name": "python3"
  },
  "language_info": {
   "codemirror_mode": {
    "name": "ipython",
    "version": 3
   },
   "file_extension": ".py",
   "mimetype": "text/x-python",
   "name": "python",
   "nbconvert_exporter": "python",
   "pygments_lexer": "ipython3",
   "version": "3.10.13"
  },
  "orig_nbformat": 4
 },
 "nbformat": 4,
 "nbformat_minor": 2
}
