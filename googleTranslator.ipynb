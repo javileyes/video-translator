{
 "cells": [
  {
   "cell_type": "code",
   "execution_count": null,
   "metadata": {},
   "outputs": [],
   "source": [
    "%pip install googletrans==4.0.0-rc1 PySocks"
   ]
  },
  {
   "cell_type": "markdown",
   "metadata": {},
   "source": [
    "Para poder reimportar y que los cambios surjan efecto sin necesidad de reiniciar el kernel, se debe ejecutar la siguiente celda:"
   ]
  },
  {
   "cell_type": "code",
   "execution_count": 8,
   "metadata": {},
   "outputs": [
    {
     "data": {
      "text/plain": [
       "<module 'tunel_ssh_socks' from '/mnt/d/DeveloperIA/video-translator/tunel_ssh_socks.py'>"
      ]
     },
     "execution_count": 8,
     "metadata": {},
     "output_type": "execute_result"
    }
   ],
   "source": [
    "import importlib\n",
    "import tunel_ssh_socks\n",
    "\n",
    "importlib.reload(tunel_ssh_socks)"
   ]
  },
  {
   "cell_type": "markdown",
   "metadata": {},
   "source": [
    "<H1> TODO: Que se puedan generar muchos túneles y muchos proxis, para eso el modulo tunel podría tener arrays de tuneles y otro de proxys </H1>"
   ]
  },
  {
   "cell_type": "markdown",
   "metadata": {},
   "source": [
    "# Probando librería tunel inverso"
   ]
  },
  {
   "cell_type": "code",
   "execution_count": 3,
   "metadata": {},
   "outputs": [
    {
     "name": "stdout",
     "output_type": "stream",
     "text": [
      "\u001b[32m[PM2] \u001b[39mStarting /usr/bin/bash in fork_mode (1 instance)\n",
      "\u001b[32m[PM2] \u001b[39mDone.\n",
      "\u001b[90m┌────┬──────────────────┬─────────────┬─────────┬─────────┬──────────┬────────┬──────┬───────────┬──────────┬──────────┬──────────┬──────────┐\u001b[39m\n",
      "\u001b[90m│\u001b[39m\u001b[1m\u001b[36m id \u001b[39m\u001b[22m\u001b[90m│\u001b[39m\u001b[1m\u001b[36m name             \u001b[39m\u001b[22m\u001b[90m│\u001b[39m\u001b[1m\u001b[36m namespace   \u001b[39m\u001b[22m\u001b[90m│\u001b[39m\u001b[1m\u001b[36m version \u001b[39m\u001b[22m\u001b[90m│\u001b[39m\u001b[1m\u001b[36m mode    \u001b[39m\u001b[22m\u001b[90m│\u001b[39m\u001b[1m\u001b[36m pid      \u001b[39m\u001b[22m\u001b[90m│\u001b[39m\u001b[1m\u001b[36m uptime \u001b[39m\u001b[22m\u001b[90m│\u001b[39m\u001b[1m\u001b[36m ↺    \u001b[39m\u001b[22m\u001b[90m│\u001b[39m\u001b[1m\u001b[36m status    \u001b[39m\u001b[22m\u001b[90m│\u001b[39m\u001b[1m\u001b[36m cpu      \u001b[39m\u001b[22m\u001b[90m│\u001b[39m\u001b[1m\u001b[36m mem      \u001b[39m\u001b[22m\u001b[90m│\u001b[39m\u001b[1m\u001b[36m user     \u001b[39m\u001b[22m\u001b[90m│\u001b[39m\u001b[1m\u001b[36m watching \u001b[39m\u001b[22m\u001b[90m│\u001b[39m\n",
      "\u001b[90m├────┼──────────────────┼─────────────┼─────────┼─────────┼──────────┼────────┼──────┼───────────┼──────────┼──────────┼──────────┼──────────┤\u001b[39m\n",
      "\u001b[90m│\u001b[39m\u001b[1m\u001b[36m \u001b[1m\u001b[36m0\u001b[39m\u001b[36m\u001b[22m\u001b[1m  \u001b[39m\u001b[22m\u001b[90m│\u001b[39m neo4j console    \u001b[90m│\u001b[39m default     \u001b[90m│\u001b[39m N/A     \u001b[90m│\u001b[39m \u001b[7m\u001b[1mfork\u001b[22m\u001b[27m    \u001b[90m│\u001b[39m 27838    \u001b[90m│\u001b[39m 4D     \u001b[90m│\u001b[39m 0    \u001b[90m│\u001b[39m \u001b[32m\u001b[1monline\u001b[22m\u001b[39m    \u001b[90m│\u001b[39m 0%       \u001b[90m│\u001b[39m 7.5mb    \u001b[90m│\u001b[39m \u001b[1mjavier\u001b[22m   \u001b[90m│\u001b[39m \u001b[90mdisabled\u001b[39m \u001b[90m│\u001b[39m\n",
      "\u001b[90m│\u001b[39m\u001b[1m\u001b[36m \u001b[1m\u001b[36m29\u001b[39m\u001b[36m\u001b[22m\u001b[1m \u001b[39m\u001b[22m\u001b[90m│\u001b[39m tunel-ssh        \u001b[90m│\u001b[39m default     \u001b[90m│\u001b[39m N/A     \u001b[90m│\u001b[39m \u001b[7m\u001b[1mfork\u001b[22m\u001b[27m    \u001b[90m│\u001b[39m 26586    \u001b[90m│\u001b[39m 0s     \u001b[90m│\u001b[39m 0    \u001b[90m│\u001b[39m \u001b[32m\u001b[1monline\u001b[22m\u001b[39m    \u001b[90m│\u001b[39m 0%       \u001b[90m│\u001b[39m 1.5mb    \u001b[90m│\u001b[39m \u001b[1mjavier\u001b[22m   \u001b[90m│\u001b[39m \u001b[90mdisabled\u001b[39m \u001b[90m│\u001b[39m\n",
      "\u001b[90m└────┴──────────────────┴─────────────┴─────────┴─────────┴──────────┴────────┴──────┴───────────┴──────────┴──────────┴──────────┴──────────┘\u001b[39m\n",
      "Configurando el proxy SOCKS en localhost:5559...\n"
     ]
    }
   ],
   "source": [
    "# import socket\n",
    "import tunel_ssh_socks as tunel\n",
    "\n",
    "\n",
    "# original_socket = socket.socket\n",
    "\n",
    "# Configuración del servidor SSH y credenciales\n",
    "ssh_host = \"74.208.163.90\"  # IP del servidor SSH\n",
    "local_port = 5559               # Puerto SSH\n",
    "username = \"root\"     \n",
    "path_to_private_key = \"./.ssh/tunel\"  # Ruta clave privada SSH\n",
    "\n",
    "tunel.crear_tunel_ssh(local_port, username, ssh_host, path_to_private_key)\n",
    "\n",
    "tunel.crear_proxy_socks(local_port) \n"
   ]
  },
  {
   "cell_type": "code",
   "execution_count": 6,
   "metadata": {},
   "outputs": [
    {
     "data": {
      "text/plain": [
       "'Dirección IP: 83.138.42.107\\nPaís: ES\\nRegión: Valencia\\nCiudad: Alicante'"
      ]
     },
     "execution_count": 6,
     "metadata": {},
     "output_type": "execute_result"
    }
   ],
   "source": [
    "import tunel_ssh_socks as tunel\n",
    "\n",
    "tunel.obtener_informacion_ip()\n"
   ]
  },
  {
   "cell_type": "code",
   "execution_count": 5,
   "metadata": {},
   "outputs": [
    {
     "name": "stdout",
     "output_type": "stream",
     "text": [
      "¡Hola Mundo!\n",
      "¿Cómo estás?\n",
      "Esto es una prueba.\n",
      "\u001b[32m[PM2] \u001b[39mApplying action deleteProcessId on app [tunel-ssh](ids: [ 29 ])\n",
      "\u001b[32m[PM2] \u001b[39m[tunel-ssh](29) ✓\n",
      "\u001b[90m┌────┬──────────────────┬─────────────┬─────────┬─────────┬──────────┬────────┬──────┬───────────┬──────────┬──────────┬──────────┬──────────┐\u001b[39m\n",
      "\u001b[90m│\u001b[39m\u001b[1m\u001b[36m id \u001b[39m\u001b[22m\u001b[90m│\u001b[39m\u001b[1m\u001b[36m name             \u001b[39m\u001b[22m\u001b[90m│\u001b[39m\u001b[1m\u001b[36m namespace   \u001b[39m\u001b[22m\u001b[90m│\u001b[39m\u001b[1m\u001b[36m version \u001b[39m\u001b[22m\u001b[90m│\u001b[39m\u001b[1m\u001b[36m mode    \u001b[39m\u001b[22m\u001b[90m│\u001b[39m\u001b[1m\u001b[36m pid      \u001b[39m\u001b[22m\u001b[90m│\u001b[39m\u001b[1m\u001b[36m uptime \u001b[39m\u001b[22m\u001b[90m│\u001b[39m\u001b[1m\u001b[36m ↺    \u001b[39m\u001b[22m\u001b[90m│\u001b[39m\u001b[1m\u001b[36m status    \u001b[39m\u001b[22m\u001b[90m│\u001b[39m\u001b[1m\u001b[36m cpu      \u001b[39m\u001b[22m\u001b[90m│\u001b[39m\u001b[1m\u001b[36m mem      \u001b[39m\u001b[22m\u001b[90m│\u001b[39m\u001b[1m\u001b[36m user     \u001b[39m\u001b[22m\u001b[90m│\u001b[39m\u001b[1m\u001b[36m watching \u001b[39m\u001b[22m\u001b[90m│\u001b[39m\n",
      "\u001b[90m├────┼──────────────────┼─────────────┼─────────┼─────────┼──────────┼────────┼──────┼───────────┼──────────┼──────────┼──────────┼──────────┤\u001b[39m\n",
      "\u001b[90m│\u001b[39m\u001b[1m\u001b[36m \u001b[1m\u001b[36m0\u001b[39m\u001b[36m\u001b[22m\u001b[1m  \u001b[39m\u001b[22m\u001b[90m│\u001b[39m neo4j console    \u001b[90m│\u001b[39m default     \u001b[90m│\u001b[39m N/A     \u001b[90m│\u001b[39m \u001b[7m\u001b[1mfork\u001b[22m\u001b[27m    \u001b[90m│\u001b[39m 27838    \u001b[90m│\u001b[39m 4D     \u001b[90m│\u001b[39m 0    \u001b[90m│\u001b[39m \u001b[32m\u001b[1monline\u001b[22m\u001b[39m    \u001b[90m│\u001b[39m 0%       \u001b[90m│\u001b[39m 7.5mb    \u001b[90m│\u001b[39m \u001b[1mjavier\u001b[22m   \u001b[90m│\u001b[39m \u001b[90mdisabled\u001b[39m \u001b[90m│\u001b[39m\n",
      "\u001b[90m└────┴──────────────────┴─────────────┴─────────┴─────────┴──────────┴────────┴──────┴───────────┴──────────┴──────────┴──────────┴──────────┘\u001b[39m\n"
     ]
    }
   ],
   "source": [
    "from googletrans import Translator\n",
    "import random\n",
    "import time\n",
    "\n",
    "\n",
    "def traducir_eng_spa(texto):\n",
    "    traductor = Translator()\n",
    "    return traductor.translate(texto, src='en', dest='es').text\n",
    "\n",
    "# Lista de textos a traducir\n",
    "textos = [\"Hello, world!\", \"How are you?\", \"This is a test.\"]\n",
    "\n",
    "# Iterar sobre los textos y traducir cada uno\n",
    "for texto in textos:\n",
    "    texto_traducido = traducir_eng_spa(texto)\n",
    "    print(texto_traducido)\n",
    "\n",
    "    # Genera una pausa aleatoria entre 1 y 2 segundos\n",
    "    time.sleep(random.uniform(1, 2))\n",
    "\n",
    "\n",
    "tunel.cerrar_tunel_ssh()\n"
   ]
  },
  {
   "cell_type": "markdown",
   "metadata": {},
   "source": [
    "## probando librería tunel inverso (visualización de datos)"
   ]
  },
  {
   "cell_type": "code",
   "execution_count": 2,
   "metadata": {},
   "outputs": [],
   "source": [
    "# import socket\n",
    "# original_socket = socket.socket"
   ]
  },
  {
   "cell_type": "code",
   "execution_count": 3,
   "metadata": {},
   "outputs": [
    {
     "name": "stdout",
     "output_type": "stream",
     "text": [
      "15687680\n",
      "Tipo de Socket: <property object at 0x7f444d0d5120>\n",
      "Familia del Socket: <property object at 0x7f444d234f40>\n"
     ]
    }
   ],
   "source": [
    "print(id(original_socket))\n",
    "# print(dir(instancia))\n",
    "# print(vars(original_socket))\n",
    "# atributos = [a for a in dir(original_socket) if not a.startswith('__')]\n",
    "# print(atributos)\n",
    "import socket\n",
    "\n",
    "\n",
    "# Atributos de interés\n",
    "print(\"Tipo de Socket:\", original_socket.type)\n",
    "print(\"Familia del Socket:\", original_socket.family)\n",
    "\n",
    "# Después de conectar o enlazar el socket\n",
    "# s.bind((\"localhost\", 0))\n",
    "# s.listen()\n",
    "# print(\"Dirección Local:\", s.getsockname())\n",
    "\n",
    "# Si el socket está conectado a un servidor remoto\n",
    "# s.connect((\"www.ejemplo.com\", 80))\n",
    "# print(\"Dirección Remota:\", s.getpeername())\n",
    "\n",
    "# Obtener opciones del socket\n",
    "# timeout = s.getsockopt(socket.SOL_SOCKET, socket.SO_RCVTIMEO)\n",
    "# print(\"Timeout de Recepción:\", timeout)\n"
   ]
  },
  {
   "cell_type": "code",
   "execution_count": 4,
   "metadata": {},
   "outputs": [
    {
     "name": "stdout",
     "output_type": "stream",
     "text": [
      "15687680\n"
     ]
    }
   ],
   "source": [
    "# imprimir id actual socket\n",
    "print(id(socket.socket))"
   ]
  },
  {
   "cell_type": "code",
   "execution_count": 65,
   "metadata": {},
   "outputs": [
    {
     "name": "stdout",
     "output_type": "stream",
     "text": [
      "\u001b[90m┌────┬────────────────────┬──────────┬──────┬───────────┬──────────┬──────────┐\u001b[39m\n",
      "\u001b[90m│\u001b[39m\u001b[1m\u001b[36m id \u001b[39m\u001b[22m\u001b[90m│\u001b[39m\u001b[1m\u001b[36m name               \u001b[39m\u001b[22m\u001b[90m│\u001b[39m\u001b[1m\u001b[36m mode     \u001b[39m\u001b[22m\u001b[90m│\u001b[39m\u001b[1m\u001b[36m ↺    \u001b[39m\u001b[22m\u001b[90m│\u001b[39m\u001b[1m\u001b[36m status    \u001b[39m\u001b[22m\u001b[90m│\u001b[39m\u001b[1m\u001b[36m cpu      \u001b[39m\u001b[22m\u001b[90m│\u001b[39m\u001b[1m\u001b[36m memory   \u001b[39m\u001b[22m\u001b[90m│\u001b[39m\n",
      "\u001b[90m├────┼────────────────────┼──────────┼──────┼───────────┼──────────┼──────────┤\u001b[39m\n",
      "\u001b[90m│\u001b[39m\u001b[1m\u001b[36m \u001b[1m\u001b[36m0\u001b[39m\u001b[36m\u001b[22m\u001b[1m  \u001b[39m\u001b[22m\u001b[90m│\u001b[39m neo4j console      \u001b[90m│\u001b[39m \u001b[7m\u001b[1mfork\u001b[22m\u001b[27m     \u001b[90m│\u001b[39m 0    \u001b[90m│\u001b[39m \u001b[32m\u001b[1monline\u001b[22m\u001b[39m    \u001b[90m│\u001b[39m 0%       \u001b[90m│\u001b[39m 7.5mb    \u001b[90m│\u001b[39m\n",
      "\u001b[90m│\u001b[39m\u001b[1m\u001b[36m \u001b[1m\u001b[36m25\u001b[39m\u001b[36m\u001b[22m\u001b[1m \u001b[39m\u001b[22m\u001b[90m│\u001b[39m tunel-ssh          \u001b[90m│\u001b[39m \u001b[7m\u001b[1mfork\u001b[22m\u001b[27m     \u001b[90m│\u001b[39m 0    \u001b[90m│\u001b[39m \u001b[32m\u001b[1monline\u001b[22m\u001b[39m    \u001b[90m│\u001b[39m 0%       \u001b[90m│\u001b[39m 8.0mb    \u001b[90m│\u001b[39m\n",
      "\u001b[90m│\u001b[39m\u001b[1m\u001b[36m \u001b[1m\u001b[36m26\u001b[39m\u001b[36m\u001b[22m\u001b[1m \u001b[39m\u001b[22m\u001b[90m│\u001b[39m tunel-ssh          \u001b[90m│\u001b[39m \u001b[7m\u001b[1mfork\u001b[22m\u001b[27m     \u001b[90m│\u001b[39m 0    \u001b[90m│\u001b[39m \u001b[32m\u001b[1monline\u001b[22m\u001b[39m    \u001b[90m│\u001b[39m 0%       \u001b[90m│\u001b[39m 7.9mb    \u001b[90m│\u001b[39m\n",
      "\u001b[90m└────┴────────────────────┴──────────┴──────┴───────────┴──────────┴──────────┘\u001b[39m\n"
     ]
    }
   ],
   "source": [
    "!pm2 list"
   ]
  },
  {
   "cell_type": "code",
   "execution_count": 8,
   "metadata": {},
   "outputs": [
    {
     "name": "stdout",
     "output_type": "stream",
     "text": [
      "\u001b[32m[PM2] \u001b[39mApplying action deleteProcessId on app [tunel-ssh](ids: [ 28 ])\n",
      "\u001b[32m[PM2] \u001b[39m[tunel-ssh](28) ✓\n",
      "\u001b[90m┌────┬────────────────────┬──────────┬──────┬───────────┬──────────┬──────────┐\u001b[39m\n",
      "\u001b[90m│\u001b[39m\u001b[1m\u001b[36m id \u001b[39m\u001b[22m\u001b[90m│\u001b[39m\u001b[1m\u001b[36m name               \u001b[39m\u001b[22m\u001b[90m│\u001b[39m\u001b[1m\u001b[36m mode     \u001b[39m\u001b[22m\u001b[90m│\u001b[39m\u001b[1m\u001b[36m ↺    \u001b[39m\u001b[22m\u001b[90m│\u001b[39m\u001b[1m\u001b[36m status    \u001b[39m\u001b[22m\u001b[90m│\u001b[39m\u001b[1m\u001b[36m cpu      \u001b[39m\u001b[22m\u001b[90m│\u001b[39m\u001b[1m\u001b[36m memory   \u001b[39m\u001b[22m\u001b[90m│\u001b[39m\n",
      "\u001b[90m├────┼────────────────────┼──────────┼──────┼───────────┼──────────┼──────────┤\u001b[39m\n",
      "\u001b[90m│\u001b[39m\u001b[1m\u001b[36m \u001b[1m\u001b[36m0\u001b[39m\u001b[36m\u001b[22m\u001b[1m  \u001b[39m\u001b[22m\u001b[90m│\u001b[39m neo4j console      \u001b[90m│\u001b[39m \u001b[7m\u001b[1mfork\u001b[22m\u001b[27m     \u001b[90m│\u001b[39m 0    \u001b[90m│\u001b[39m \u001b[32m\u001b[1monline\u001b[22m\u001b[39m    \u001b[90m│\u001b[39m 0%       \u001b[90m│\u001b[39m 7.5mb    \u001b[90m│\u001b[39m\n",
      "\u001b[90m└────┴────────────────────┴──────────┴──────┴───────────┴──────────┴──────────┘\u001b[39m\n"
     ]
    }
   ],
   "source": [
    "!pm2 delete tunel-ssh"
   ]
  },
  {
   "cell_type": "code",
   "execution_count": null,
   "metadata": {},
   "outputs": [],
   "source": [
    "# import socket\n",
    "\n",
    "# Restaurar el comportamiento original del socket\n",
    "# socket.socket = original_socket"
   ]
  },
  {
   "cell_type": "code",
   "execution_count": 5,
   "metadata": {},
   "outputs": [
    {
     "data": {
      "text/plain": [
       "'Dirección IP: 83.138.42.107\\nPaís: ES\\nRegión: Valencia\\nCiudad: Alicante'"
      ]
     },
     "execution_count": 5,
     "metadata": {},
     "output_type": "execute_result"
    }
   ],
   "source": [
    "import tunel_ssh_socks as tunel\n",
    "\n",
    "tunel.obtener_informacion_ip()"
   ]
  },
  {
   "cell_type": "code",
   "execution_count": null,
   "metadata": {},
   "outputs": [
    {
     "name": "stdout",
     "output_type": "stream",
     "text": [
      "\u001b[32m[PM2] \u001b[39mApplying action deleteProcessId on app [tunel-ssh](ids: [ 21 ])\n",
      "\u001b[32m[PM2] \u001b[39m[tunel-ssh](21) ✓\n",
      "\u001b[90m┌────┬──────────────────┬─────────────┬─────────┬─────────┬──────────┬────────┬──────┬───────────┬──────────┬──────────┬──────────┬──────────┐\u001b[39m\n",
      "\u001b[90m│\u001b[39m\u001b[1m\u001b[36m id \u001b[39m\u001b[22m\u001b[90m│\u001b[39m\u001b[1m\u001b[36m name             \u001b[39m\u001b[22m\u001b[90m│\u001b[39m\u001b[1m\u001b[36m namespace   \u001b[39m\u001b[22m\u001b[90m│\u001b[39m\u001b[1m\u001b[36m version \u001b[39m\u001b[22m\u001b[90m│\u001b[39m\u001b[1m\u001b[36m mode    \u001b[39m\u001b[22m\u001b[90m│\u001b[39m\u001b[1m\u001b[36m pid      \u001b[39m\u001b[22m\u001b[90m│\u001b[39m\u001b[1m\u001b[36m uptime \u001b[39m\u001b[22m\u001b[90m│\u001b[39m\u001b[1m\u001b[36m ↺    \u001b[39m\u001b[22m\u001b[90m│\u001b[39m\u001b[1m\u001b[36m status    \u001b[39m\u001b[22m\u001b[90m│\u001b[39m\u001b[1m\u001b[36m cpu      \u001b[39m\u001b[22m\u001b[90m│\u001b[39m\u001b[1m\u001b[36m mem      \u001b[39m\u001b[22m\u001b[90m│\u001b[39m\u001b[1m\u001b[36m user     \u001b[39m\u001b[22m\u001b[90m│\u001b[39m\u001b[1m\u001b[36m watching \u001b[39m\u001b[22m\u001b[90m│\u001b[39m\n",
      "\u001b[90m├────┼──────────────────┼─────────────┼─────────┼─────────┼──────────┼────────┼──────┼───────────┼──────────┼──────────┼──────────┼──────────┤\u001b[39m\n",
      "\u001b[90m│\u001b[39m\u001b[1m\u001b[36m \u001b[1m\u001b[36m0\u001b[39m\u001b[36m\u001b[22m\u001b[1m  \u001b[39m\u001b[22m\u001b[90m│\u001b[39m neo4j console    \u001b[90m│\u001b[39m default     \u001b[90m│\u001b[39m N/A     \u001b[90m│\u001b[39m \u001b[7m\u001b[1mfork\u001b[22m\u001b[27m    \u001b[90m│\u001b[39m 27838    \u001b[90m│\u001b[39m 3D     \u001b[90m│\u001b[39m 0    \u001b[90m│\u001b[39m \u001b[32m\u001b[1monline\u001b[22m\u001b[39m    \u001b[90m│\u001b[39m 0%       \u001b[90m│\u001b[39m 7.5mb    \u001b[90m│\u001b[39m \u001b[1mjavier\u001b[22m   \u001b[90m│\u001b[39m \u001b[90mdisabled\u001b[39m \u001b[90m│\u001b[39m\n",
      "\u001b[90m└────┴──────────────────┴─────────────┴─────────┴─────────┴──────────┴────────┴──────┴───────────┴──────────┴──────────┴──────────┴──────────┘\u001b[39m\n"
     ]
    }
   ],
   "source": [
    "import tunel_ssh_socks as tunel\n",
    "\n",
    "tunel.cerrar_tunel_ssh()"
   ]
  },
  {
   "cell_type": "markdown",
   "metadata": {},
   "source": [
    "He ejecutado esto tanto en el servidor remoto con SOCKs como en la máquin WSL local."
   ]
  },
  {
   "cell_type": "markdown",
   "metadata": {},
   "source": [
    "# Googletrans API google translator gratis (usar con cuidado) (usar con proxy socks)"
   ]
  },
  {
   "cell_type": "code",
   "execution_count": null,
   "metadata": {},
   "outputs": [],
   "source": [
    "%pip install googletrans==3.1.0a0"
   ]
  },
  {
   "cell_type": "markdown",
   "metadata": {},
   "source": [
    "## Sin proxy SOCKs\n"
   ]
  },
  {
   "cell_type": "code",
   "execution_count": 5,
   "metadata": {},
   "outputs": [
    {
     "name": "stdout",
     "output_type": "stream",
     "text": [
      "¡Hola Mundo!\n",
      "¿Cómo estás?\n",
      "Esto es una prueba.\n"
     ]
    }
   ],
   "source": [
    "import time\n",
    "import random\n",
    "from googletrans import Translator\n",
    "\n",
    "\n",
    "def traducir_eng_spa(texto):\n",
    "    traductor = Translator()\n",
    "    return traductor.translate(texto, src='en', dest='es').text\n",
    "\n",
    "# Lista de textos a traducir\n",
    "textos = [\"Hello, world!\", \"How are you?\", \"This is a test.\"]\n",
    "\n",
    "# Iterar sobre los textos y traducir cada uno\n",
    "for texto in textos:\n",
    "    texto_traducido = traducir_eng_spa(texto)\n",
    "    print(texto_traducido)\n",
    "\n",
    "    # Genera una pausa aleatoria entre 1 y 2 segundos\n",
    "    time.sleep(random.uniform(1, 2))\n"
   ]
  },
  {
   "cell_type": "markdown",
   "metadata": {},
   "source": [
    "## Usar con proxy socks"
   ]
  },
  {
   "cell_type": "code",
   "execution_count": 14,
   "metadata": {},
   "outputs": [],
   "source": [
    "puertosocks = 5559\n",
    "\n",
    "import socket\n",
    "\n",
    "# Guardar la referencia original del socket\n",
    "original_socket = socket.socket\n"
   ]
  },
  {
   "cell_type": "markdown",
   "metadata": {},
   "source": [
    "## Creamos un proceso robusto en segundo plano que se encarga de mantener el túnel ssh abierto"
   ]
  },
  {
   "cell_type": "code",
   "execution_count": 17,
   "metadata": {},
   "outputs": [
    {
     "name": "stdout",
     "output_type": "stream",
     "text": [
      "\u001b[32m[PM2] \u001b[39mStarting /usr/bin/bash in fork_mode (1 instance)\n",
      "\u001b[32m[PM2] \u001b[39mDone.\n",
      "\u001b[90m┌────┬──────────────────┬─────────────┬─────────┬─────────┬──────────┬────────┬──────┬───────────┬──────────┬──────────┬──────────┬──────────┐\u001b[39m\n",
      "\u001b[90m│\u001b[39m\u001b[1m\u001b[36m id \u001b[39m\u001b[22m\u001b[90m│\u001b[39m\u001b[1m\u001b[36m name             \u001b[39m\u001b[22m\u001b[90m│\u001b[39m\u001b[1m\u001b[36m namespace   \u001b[39m\u001b[22m\u001b[90m│\u001b[39m\u001b[1m\u001b[36m version \u001b[39m\u001b[22m\u001b[90m│\u001b[39m\u001b[1m\u001b[36m mode    \u001b[39m\u001b[22m\u001b[90m│\u001b[39m\u001b[1m\u001b[36m pid      \u001b[39m\u001b[22m\u001b[90m│\u001b[39m\u001b[1m\u001b[36m uptime \u001b[39m\u001b[22m\u001b[90m│\u001b[39m\u001b[1m\u001b[36m ↺    \u001b[39m\u001b[22m\u001b[90m│\u001b[39m\u001b[1m\u001b[36m status    \u001b[39m\u001b[22m\u001b[90m│\u001b[39m\u001b[1m\u001b[36m cpu      \u001b[39m\u001b[22m\u001b[90m│\u001b[39m\u001b[1m\u001b[36m mem      \u001b[39m\u001b[22m\u001b[90m│\u001b[39m\u001b[1m\u001b[36m user     \u001b[39m\u001b[22m\u001b[90m│\u001b[39m\u001b[1m\u001b[36m watching \u001b[39m\u001b[22m\u001b[90m│\u001b[39m\n",
      "\u001b[90m├────┼──────────────────┼─────────────┼─────────┼─────────┼──────────┼────────┼──────┼───────────┼──────────┼──────────┼──────────┼──────────┤\u001b[39m\n",
      "\u001b[90m│\u001b[39m\u001b[1m\u001b[36m \u001b[1m\u001b[36m0\u001b[39m\u001b[36m\u001b[22m\u001b[1m  \u001b[39m\u001b[22m\u001b[90m│\u001b[39m neo4j console    \u001b[90m│\u001b[39m default     \u001b[90m│\u001b[39m N/A     \u001b[90m│\u001b[39m \u001b[7m\u001b[1mfork\u001b[22m\u001b[27m    \u001b[90m│\u001b[39m 27838    \u001b[90m│\u001b[39m 3D     \u001b[90m│\u001b[39m 0    \u001b[90m│\u001b[39m \u001b[32m\u001b[1monline\u001b[22m\u001b[39m    \u001b[90m│\u001b[39m 0%       \u001b[90m│\u001b[39m 7.5mb    \u001b[90m│\u001b[39m \u001b[1mjavier\u001b[22m   \u001b[90m│\u001b[39m \u001b[90mdisabled\u001b[39m \u001b[90m│\u001b[39m\n",
      "\u001b[90m│\u001b[39m\u001b[1m\u001b[36m \u001b[1m\u001b[36m20\u001b[39m\u001b[36m\u001b[22m\u001b[1m \u001b[39m\u001b[22m\u001b[90m│\u001b[39m tunel-ssh        \u001b[90m│\u001b[39m default     \u001b[90m│\u001b[39m N/A     \u001b[90m│\u001b[39m \u001b[7m\u001b[1mfork\u001b[22m\u001b[27m    \u001b[90m│\u001b[39m 25036    \u001b[90m│\u001b[39m 0s     \u001b[90m│\u001b[39m 0    \u001b[90m│\u001b[39m \u001b[32m\u001b[1monline\u001b[22m\u001b[39m    \u001b[90m│\u001b[39m 0%       \u001b[90m│\u001b[39m 5.1mb    \u001b[90m│\u001b[39m \u001b[1mjavier\u001b[22m   \u001b[90m│\u001b[39m \u001b[90mdisabled\u001b[39m \u001b[90m│\u001b[39m\n",
      "\u001b[90m└────┴──────────────────┴─────────────┴─────────┴─────────┴──────────┴────────┴──────┴───────────┴──────────┴──────────┴──────────┴──────────┘\u001b[39m\n"
     ]
    },
    {
     "data": {
      "text/plain": [
       "CompletedProcess(args=\"pm2 start 'ssh -i .ssh/tunel -N root@74.208.163.90 -D 5559' --name tunel-ssh\", returncode=0)"
      ]
     },
     "execution_count": 17,
     "metadata": {},
     "output_type": "execute_result"
    }
   ],
   "source": [
    "import subprocess\n",
    "\n",
    "host_remoto = \"74.208.163.90\"\n",
    "usuario = \"root\"\n",
    "clave_ssh = \".ssh/tunel\"\n",
    "puerto_local = 5559\n",
    "nombre_proceso = \"tunel-ssh\"\n",
    "\n",
    "cmd = f\"pm2 start 'ssh -i {clave_ssh} -N {usuario}@{host_remoto} -D {puerto_local}' --name {nombre_proceso}\"\n",
    "subprocess.run(cmd, shell=True)\n"
   ]
  },
  {
   "cell_type": "markdown",
   "metadata": {},
   "source": [
    "No funciona por culpa de que la contraseña está encriptada en el fichero de configuración de proxy socks."
   ]
  },
  {
   "cell_type": "code",
   "execution_count": 17,
   "metadata": {},
   "outputs": [
    {
     "name": "stdout",
     "output_type": "stream",
     "text": [
      "\u001b[90m┌────┬────────────────────┬──────────┬──────┬───────────┬──────────┬──────────┐\u001b[39m\n",
      "\u001b[90m│\u001b[39m\u001b[1m\u001b[36m id \u001b[39m\u001b[22m\u001b[90m│\u001b[39m\u001b[1m\u001b[36m name               \u001b[39m\u001b[22m\u001b[90m│\u001b[39m\u001b[1m\u001b[36m mode     \u001b[39m\u001b[22m\u001b[90m│\u001b[39m\u001b[1m\u001b[36m ↺    \u001b[39m\u001b[22m\u001b[90m│\u001b[39m\u001b[1m\u001b[36m status    \u001b[39m\u001b[22m\u001b[90m│\u001b[39m\u001b[1m\u001b[36m cpu      \u001b[39m\u001b[22m\u001b[90m│\u001b[39m\u001b[1m\u001b[36m memory   \u001b[39m\u001b[22m\u001b[90m│\u001b[39m\n",
      "\u001b[90m├────┼────────────────────┼──────────┼──────┼───────────┼──────────┼──────────┤\u001b[39m\n",
      "\u001b[90m│\u001b[39m\u001b[1m\u001b[36m \u001b[1m\u001b[36m0\u001b[39m\u001b[36m\u001b[22m\u001b[1m  \u001b[39m\u001b[22m\u001b[90m│\u001b[39m neo4j console      \u001b[90m│\u001b[39m \u001b[7m\u001b[1mfork\u001b[22m\u001b[27m     \u001b[90m│\u001b[39m 0    \u001b[90m│\u001b[39m \u001b[32m\u001b[1monline\u001b[22m\u001b[39m    \u001b[90m│\u001b[39m 0%       \u001b[90m│\u001b[39m 7.5mb    \u001b[90m│\u001b[39m\n",
      "\u001b[90m│\u001b[39m\u001b[1m\u001b[36m \u001b[1m\u001b[36m16\u001b[39m\u001b[36m\u001b[22m\u001b[1m \u001b[39m\u001b[22m\u001b[90m│\u001b[39m ssh_tunnel         \u001b[90m│\u001b[39m \u001b[7m\u001b[1mfork\u001b[22m\u001b[27m     \u001b[90m│\u001b[39m 0    \u001b[90m│\u001b[39m \u001b[32m\u001b[1monline\u001b[22m\u001b[39m    \u001b[90m│\u001b[39m 0%       \u001b[90m│\u001b[39m 7.9mb    \u001b[90m│\u001b[39m\n",
      "\u001b[90m└────┴────────────────────┴──────────┴──────┴───────────┴──────────┴──────────┘\u001b[39m\n"
     ]
    }
   ],
   "source": [
    "!pm2 list"
   ]
  },
  {
   "cell_type": "code",
   "execution_count": 18,
   "metadata": {},
   "outputs": [
    {
     "name": "stdout",
     "output_type": "stream",
     "text": [
      "\u001b[32m[PM2] \u001b[39mApplying action deleteProcessId on app [16](ids: [ '16' ])\n",
      "\u001b[32m[PM2] \u001b[39m[ssh_tunnel](16) ✓\n",
      "\u001b[90m┌────┬────────────────────┬──────────┬──────┬───────────┬──────────┬──────────┐\u001b[39m\n",
      "\u001b[90m│\u001b[39m\u001b[1m\u001b[36m id \u001b[39m\u001b[22m\u001b[90m│\u001b[39m\u001b[1m\u001b[36m name               \u001b[39m\u001b[22m\u001b[90m│\u001b[39m\u001b[1m\u001b[36m mode     \u001b[39m\u001b[22m\u001b[90m│\u001b[39m\u001b[1m\u001b[36m ↺    \u001b[39m\u001b[22m\u001b[90m│\u001b[39m\u001b[1m\u001b[36m status    \u001b[39m\u001b[22m\u001b[90m│\u001b[39m\u001b[1m\u001b[36m cpu      \u001b[39m\u001b[22m\u001b[90m│\u001b[39m\u001b[1m\u001b[36m memory   \u001b[39m\u001b[22m\u001b[90m│\u001b[39m\n",
      "\u001b[90m├────┼────────────────────┼──────────┼──────┼───────────┼──────────┼──────────┤\u001b[39m\n",
      "\u001b[90m│\u001b[39m\u001b[1m\u001b[36m \u001b[1m\u001b[36m0\u001b[39m\u001b[36m\u001b[22m\u001b[1m  \u001b[39m\u001b[22m\u001b[90m│\u001b[39m neo4j console      \u001b[90m│\u001b[39m \u001b[7m\u001b[1mfork\u001b[22m\u001b[27m     \u001b[90m│\u001b[39m 0    \u001b[90m│\u001b[39m \u001b[32m\u001b[1monline\u001b[22m\u001b[39m    \u001b[90m│\u001b[39m 0%       \u001b[90m│\u001b[39m 7.5mb    \u001b[90m│\u001b[39m\n",
      "\u001b[90m└────┴────────────────────┴──────────┴──────┴───────────┴──────────┴──────────┘\u001b[39m\n"
     ]
    }
   ],
   "source": [
    "# si queremos borrar el proceso\n",
    "!pm2 delete tunel-ssh"
   ]
  },
  {
   "cell_type": "code",
   "execution_count": 39,
   "metadata": {},
   "outputs": [],
   "source": [
    "!lsof -i :{puertosocks}\n"
   ]
  },
  {
   "cell_type": "code",
   "execution_count": 76,
   "metadata": {},
   "outputs": [],
   "source": [
    "# !kill -9 19841"
   ]
  },
  {
   "cell_type": "code",
   "execution_count": 95,
   "metadata": {},
   "outputs": [
    {
     "name": "stdout",
     "output_type": "stream",
     "text": [
      "root       240  0.0  0.0  15428  1656 ?        Ss   Nov13   0:00 sshd: /usr/sbin/sshd [listener] 0 of 10-100 startups\n",
      "javier   14789  0.0  0.0      0     0 ?        Z    16:34   0:00 [sshpass] <defunct>\n",
      "root     24996  0.0  0.0  16880  4760 ?        Ss   09:45   0:00 sshd: javier [priv]\n",
      "javier   25022  0.0  0.0  17736  4228 ?        S    09:45   0:01 sshd: javier@notty\n",
      "javier   26478  0.0  0.0   4780  3324 ?        Ss   17:29   0:00 bash /mnt/d/DeveloperIA/video-translator/ssh_tunnel.sh 5559\n",
      "javier   26479  0.0  0.0  11716  8192 ?        S    17:29   0:00 ssh -i .ssh/tunel -N root@74.208.163.90 -D 5559\n",
      "javier   26594  0.0  0.0   4780  3296 pts/0    Ss+  17:29   0:00 /bin/bash -c ps aux | grep 'ssh'\n",
      "javier   26596  0.0  0.0   4024  2000 pts/0    S+   17:29   0:00 grep ssh\n",
      "root     28723  0.0  0.0  16884  4688 ?        Ss   10:00   0:00 sshd: javier [priv]\n",
      "javier   28749  0.0  0.0  18480  5592 ?        S    10:00   0:03 sshd: javier@notty\n"
     ]
    }
   ],
   "source": [
    "!ps aux | grep 'ssh'"
   ]
  },
  {
   "cell_type": "code",
   "execution_count": null,
   "metadata": {},
   "outputs": [],
   "source": [
    "import requests\n",
    "\n",
    "def obtener_mi_ip():\n",
    "    try:\n",
    "        respuesta = requests.get('https://httpbin.org/ip')\n",
    "        ip = respuesta.json()['origin']\n",
    "        return ip\n",
    "    except Exception as e:\n",
    "        return f\"Error al obtener la IP: {e}\"\n",
    "\n",
    "# Ejecutar la función y mostrar la IP\n",
    "mi_ip = obtener_mi_ip()\n",
    "print(f\"Mi dirección IP actual es: {mi_ip}\")\n",
    "\n",
    "\n",
    "\n",
    "def obtener_informacion_ip():\n",
    "    try:\n",
    "        # Obtener la dirección IP y la información de ubicación\n",
    "        respuesta_ip = requests.get('https://httpbin.org/ip')\n",
    "        ip = respuesta_ip.json()['origin']\n",
    "\n",
    "        # Usar ipinfo.io para obtener información detallada de la ubicación\n",
    "        respuesta_geo = requests.get(f'https://ipinfo.io/{ip}/json')\n",
    "        datos_geo = respuesta_geo.json()\n",
    "\n",
    "        pais = datos_geo.get('country', 'No disponible')\n",
    "        region = datos_geo.get('region', 'No disponible')\n",
    "        ciudad = datos_geo.get('city', 'No disponible')\n",
    "\n",
    "        return f\"Dirección IP: {ip}\\nPaís: {pais}\\nRegión: {region}\\nCiudad: {ciudad}\"\n",
    "    except Exception as e:\n",
    "        return f\"Error al obtener la información de la IP: {e}\"\n",
    "\n",
    "# Ejecutar la función y mostrar la información\n",
    "info_ip = obtener_informacion_ip()\n",
    "print(info_ip)\n",
    "\n",
    "\n",
    "print(\"IP:\", obtener_mi_ip())\n",
    "print(obtener_informacion_ip())"
   ]
  },
  {
   "cell_type": "markdown",
   "metadata": {},
   "source": [
    "## Ejecutamos servicios mediante el proxy socks"
   ]
  },
  {
   "cell_type": "code",
   "execution_count": 18,
   "metadata": {},
   "outputs": [
    {
     "name": "stdout",
     "output_type": "stream",
     "text": [
      "Configurando el proxy SOCKS en localhost:5559...\n",
      "Dirección IP: 74.208.163.90\n",
      "País: US\n",
      "Región: New York\n",
      "Ciudad: New York City\n",
      "Realizando solicitud HTTP...\n",
      "New York: ☀️   +18°C\n",
      "\n",
      "¡Hola Mundo!\n",
      "¿Cómo estás?\n",
      "Esto es una prueba.\n",
      "Restaurando el socket original...\n"
     ]
    }
   ],
   "source": [
    "import socket\n",
    "import socks\n",
    "import requests\n",
    "import time\n",
    "import random\n",
    "from googletrans import Translator\n",
    "\n",
    "\n",
    "# Configuración del servidor SSH y credenciales\n",
    "# ssh_host = \"74.208.163.90\"  # IP del servidor SSH\n",
    "# ssh_port = 22               # Puerto SSH\n",
    "# username = \"root\"     \n",
    "# path_to_private_key = \"./.ssh/tunel\"  # Ruta clave privada SSH\n",
    "\n",
    "try:\n",
    "\n",
    "    #  # Configura el proxy SOCKS: Configurar el extremo local del tunel SSH\n",
    "    local_bind_port = 5559\n",
    "    remote_bind_address = ('localhost', local_bind_port)\n",
    "\n",
    "    print(f\"Configurando el proxy SOCKS en {remote_bind_address[0]}:{remote_bind_address[1]}...\")\n",
    "    # El argumento True al final indica que se resolverán los nombres de host de manera remota.\n",
    "    socks.set_default_proxy(socks.SOCKS5, \"localhost\", local_bind_port, True) \n",
    "    socket.socket = socks.socksocket\n",
    "    socket.AF_INET = 2  # IPv4\n",
    "\n",
    "    print(obtener_informacion_ip())\n",
    "    \n",
    "    def obtener_clima_ny():\n",
    "        URL = \"http://wttr.in/New%20York?format=3\"\n",
    "        print(\"Realizando solicitud HTTP...\")\n",
    "        respuesta = requests.get(URL, timeout=10)\n",
    "        return respuesta.text\n",
    "\n",
    "    # Ejecutar y mostrar la información del clima\n",
    "    try:\n",
    "        clima = obtener_clima_ny()\n",
    "        print(clima)\n",
    "    except Exception as e:\n",
    "        print(f\"Error al realizar la solicitud HTTP: {e}\")\n",
    "\n",
    "        \n",
    "\n",
    "    def traducir_eng_spa(texto):\n",
    "        traductor = Translator()\n",
    "        return traductor.translate(texto, src='en', dest='es').text\n",
    "\n",
    "    # Lista de textos a traducir\n",
    "    textos = [\"Hello, world!\", \"How are you?\", \"This is a test.\"]\n",
    "\n",
    "    # Iterar sobre los textos y traducir cada uno\n",
    "    for texto in textos:\n",
    "        try:\n",
    "            texto_traducido = traducir_eng_spa(texto)\n",
    "            print(texto_traducido)\n",
    "        except Exception as e:\n",
    "            print(f\"Error al realizar la traducción: {e}\")\n",
    "\n",
    "        # Pausa\n",
    "        time.sleep(random.uniform(1, 2))\n",
    "\n",
    "\n",
    "except Exception as e:\n",
    "    print(f\"Error al establecer la conexión SSH: {e}\")\n",
    "\n",
    "finally:\n",
    "    # Restaurar el socket original\n",
    "    print(\"Restaurando el socket original...\")\n",
    "    socket.socket = original_socket\n",
    "    \n"
   ]
  },
  {
   "cell_type": "markdown",
   "metadata": {},
   "source": [
    "## Restaurar el proxy socks a su estado original"
   ]
  },
  {
   "cell_type": "code",
   "execution_count": 71,
   "metadata": {},
   "outputs": [],
   "source": [
    "# Restaurar el comportamiento original del socket\n",
    "socket.socket = original_socket"
   ]
  },
  {
   "cell_type": "markdown",
   "metadata": {},
   "source": [
    "# Cosas probaturas"
   ]
  },
  {
   "cell_type": "markdown",
   "metadata": {},
   "source": [
    "No es necesario hacer esto:\n",
    "```bash\n",
    "sudo vi /etc/sysctl.conf\n",
    "#poner estas lineas al final para desactivar ipv6\n",
    "net.ipv6.conf.all.disable_ipv6 = 1\n",
    "net.ipv6.conf.default.disable_ipv6 = 1\n",
    "net.ipv6.conf.lo.disable_ipv6 = 1\n",
    "\n",
    "\n",
    "# Para desactivar ipv6 en el kernel\n",
    "sudo sysctl -p\n",
    "\n",
    "# Para borrar caches de DNS (depende del sistema, si no se actualiza el DNS)\n",
    "sudo systemd-resolve --flush-caches\n",
    "\n",
    "# Para comprobar que se ha desactivado\n",
    "ip a | grep inet6\n",
    "\n",
    "# también se puede comprobar con\n",
    "cat /proc/sys/net/ipv6/conf/all/disable_ipv6\n",
    "```"
   ]
  },
  {
   "cell_type": "markdown",
   "metadata": {},
   "source": [
    "Aquí se intentó que el código python creara tanto el tunel inverso como el proxy socks, pero no funcionó:\n",
    "```python"
   ]
  },
  {
   "cell_type": "code",
   "execution_count": 18,
   "metadata": {},
   "outputs": [
    {
     "name": "stdout",
     "output_type": "stream",
     "text": [
      "Conectando a SSH a root@74.208.163.90 -p 22...\n",
      "Conexión SSH establecida.\n",
      "Configurando el proxy SOCKS en localhost:5559...\n",
      "Realizando solicitud HTTP...\n",
      "Error al realizar la solicitud HTTP: HTTPConnectionPool(host='wttr.in', port=80): Max retries exceeded with url: /New%20York?format=3 (Caused by NewConnectionError('<urllib3.connection.HTTPConnection object at 0x7f242cd0edd0>: Failed to establish a new connection: Error connecting to SOCKS5 proxy localhost:5559: [Errno 111] Connection refused'))\n",
      "Error al realizar la traducción: PySocks doesn't support IPv6: ('2a00:1450:4003:803::200e', 443, 0, 0)\n",
      "Error al realizar la traducción: PySocks doesn't support IPv6: ('2a00:1450:4003:803::200e', 443, 0, 0)\n",
      "Error al realizar la traducción: PySocks doesn't support IPv6: ('2a00:1450:4003:803::200e', 443, 0, 0)\n",
      "Conexión SSH cerrada.\n"
     ]
    }
   ],
   "source": [
    "import paramiko\n",
    "from paramiko import SSHClient\n",
    "import socket\n",
    "import socks\n",
    "import requests\n",
    "import time\n",
    "import random\n",
    "from googletrans import Translator\n",
    "\n",
    "\n",
    "# Configuración del servidor SSH y credenciales\n",
    "ssh_host = \"74.208.163.90\"  # IP del servidor SSH\n",
    "ssh_port = 22               # Puerto SSH\n",
    "username = \"root\"     # Tu usuario SSH\n",
    "path_to_private_key = \"./.ssh/tunel\"  # Ruta a tu clave privada SSH\n",
    "# private_key_password = \"Cony620438292\"#getpass.getpass(\"Ingresa la frase de contraseña de tu clave privada: \")\n",
    "\n",
    "try:\n",
    "    # Configura un cliente SSH y conecta al servidor\n",
    "    ssh = SSHClient()\n",
    "    ssh.load_system_host_keys()\n",
    "    ssh.set_missing_host_key_policy(paramiko.AutoAddPolicy())\n",
    "\n",
    "    my_key = paramiko.RSAKey.from_private_key_file(path_to_private_key)\n",
    "    print(f\"Conectando a SSH a {username}@{ssh_host} -p {ssh_port}...\")\n",
    "    try:\n",
    "        ssh.connect(hostname=ssh_host, port=ssh_port, username=username, pkey=my_key)\n",
    "        print(\"Conexión SSH establecida.\")\n",
    "    except paramiko.ssh_exception.AuthenticationException:\n",
    "        print(\"Error: credenciales inválidas.\")\n",
    "        exit()\n",
    "    except Exception as e:\n",
    "        print(f\"Error al principio de establecer la conexión SSH: {e}\")\n",
    "        exit()    \n",
    "\n",
    "    # # Configurar el reenvío de puertos\n",
    "    local_bind_port = puertosocks\n",
    "    ssh_transport = ssh.get_transport()\n",
    "    remote_bind_address = ('localhost', local_bind_port)\n",
    "    # ssh_transport.request_port_forward(address=remote_bind_address[0], port=remote_bind_address[1])\n",
    "\n",
    "    # Configura el proxy SOCKS\n",
    "    print(f\"Configurando el proxy SOCKS en {remote_bind_address[0]}:{remote_bind_address[1]}...\")\n",
    "    socks.set_default_proxy(socks.SOCKS5, \"localhost\", local_bind_port, True)\n",
    "    socket.socket = socks.socksocket\n",
    "    socket.AF_INET = 2  # IPv4\n",
    "\n",
    "    def obtener_clima_ny():\n",
    "        URL = \"http://wttr.in/New%20York?format=3\"\n",
    "        print(\"Realizando solicitud HTTP...\")\n",
    "        respuesta = requests.get(URL, timeout=10)\n",
    "        return respuesta.text\n",
    "\n",
    "    # Ejecutar y mostrar la información del clima\n",
    "    # for _ in range(3):\n",
    "    try:\n",
    "        clima = obtener_clima_ny()\n",
    "        print(clima)\n",
    "    except Exception as e:\n",
    "        print(f\"Error al realizar la solicitud HTTP: {e}\")\n",
    "\n",
    "        # Pausa\n",
    "        # time.sleep(random.uniform(1, 2))\n",
    "\n",
    "    def traducir_eng_spa(texto):\n",
    "        traductor = Translator()\n",
    "        return traductor.translate(texto, src='en', dest='es').text\n",
    "\n",
    "    # Lista de textos a traducir\n",
    "    textos = [\"Hello, world!\", \"How are you?\", \"This is a test.\"]\n",
    "\n",
    "    # Iterar sobre los textos y traducir cada uno\n",
    "    for texto in textos:\n",
    "        try:\n",
    "            texto_traducido = traducir_eng_spa(texto)\n",
    "            print(texto_traducido)\n",
    "        except Exception as e:\n",
    "            print(f\"Error al realizar la traducción: {e}\")\n",
    "\n",
    "        # Pausa\n",
    "        time.sleep(random.uniform(1, 2))\n",
    "\n",
    "\n",
    "\n",
    "\n",
    "except Exception as e:\n",
    "    print(f\"Error al establecer la conexión SSH: {e}\")\n",
    "\n",
    "finally:\n",
    "    # Cerrar la conexión SSH si está abierta\n",
    "    if ssh:\n",
    "        ssh.close()\n",
    "        print(\"Conexión SSH cerrada.\")\n"
   ]
  },
  {
   "cell_type": "code",
   "execution_count": 3,
   "metadata": {},
   "outputs": [
    {
     "name": "stdout",
     "output_type": "stream",
     "text": [
      "Realizando solicitud HTTP...\n",
      "New York: ☀️   +8°C\n",
      "\n"
     ]
    }
   ],
   "source": [
    "# import paramiko\n",
    "# from paramiko import SSHClient\n",
    "import socket\n",
    "import socks\n",
    "import requests\n",
    "import time\n",
    "import random\n",
    "import getpass\n",
    "from googletrans import Translator\n",
    "\n",
    "\n",
    "# Configuración del servidor SSH y credenciales\n",
    "ssh_host = \"74.208.163.90\"  # IP del servidor SSH\n",
    "ssh_port = 22               # Puerto SSH\n",
    "username = \"root\"     # Tu usuario SSH\n",
    "path_to_private_key = \"/home/javier/.ssh/id_rsa\"  # Ruta a tu clave privada SSH\n",
    "private_key_password = \"Cony620438292\"#getpass.getpass(\"Ingresa la frase de contraseña de tu clave privada: \")\n",
    "\n",
    "try:\n",
    "    # # Configura un cliente SSH y conecta al servidor\n",
    "    # ssh = SSHClient()\n",
    "    # ssh.load_system_host_keys()\n",
    "    # ssh.set_missing_host_key_policy(paramiko.AutoAddPolicy())\n",
    "\n",
    "    # my_key = paramiko.RSAKey.from_private_key_file(path_to_private_key, password=private_key_password)\n",
    "    # print(\"Conectando a SSH...\")\n",
    "    # ssh.connect(ssh_host, port=ssh_port, username=username, pkey=my_key)\n",
    "    # print(\"Conexión SSH establecida.\")\n",
    "\n",
    "    # # Configurar el reenvío de puertos\n",
    "    # local_bind_port = 5559\n",
    "    # ssh_transport = ssh.get_transport()\n",
    "    # remote_bind_address = ('localhost', local_bind_port)\n",
    "    # ssh_transport.request_port_forward(address=remote_bind_address[0], port=remote_bind_address[1])\n",
    "\n",
    "    # # Configura el proxy SOCKS\n",
    "    # socks.set_default_proxy(socks.SOCKS5, \"localhost\", local_bind_port, True)\n",
    "    # socket.socket = socks.socksocket\n",
    "    # socket.AF_INET = 2  # IPv4\n",
    "\n",
    "    def obtener_clima_ny():\n",
    "        URL = \"http://wttr.in/New%20York?format=3\"\n",
    "        print(\"Realizando solicitud HTTP...\")\n",
    "        respuesta = requests.get(URL, timeout=10)\n",
    "        return respuesta.text\n",
    "\n",
    "    # Ejecutar y mostrar la información del clima\n",
    "    # for _ in range(3):\n",
    "    try:\n",
    "        clima = obtener_clima_ny()\n",
    "        print(clima)\n",
    "    except Exception as e:\n",
    "        print(f\"Error al realizar la solicitud HTTP: {e}\")\n",
    "\n",
    "        # Pausa\n",
    "        # time.sleep(random.uniform(1, 2))\n",
    "\n",
    "    # def traducir_eng_spa(texto):\n",
    "    #     traductor = Translator()\n",
    "    #     return traductor.translate(texto, src='en', dest='es').text\n",
    "\n",
    "    # # Lista de textos a traducir\n",
    "    # textos = [\"Hello, world!\", \"How are you?\", \"This is a test.\"]\n",
    "\n",
    "    # # Iterar sobre los textos y traducir cada uno\n",
    "    # for texto in textos:\n",
    "    #     try:\n",
    "    #         texto_traducido = traducir_eng_spa(texto)\n",
    "    #         print(texto_traducido)\n",
    "    #     except Exception as e:\n",
    "    #         print(f\"Error al realizar la traducción: {e}\")\n",
    "\n",
    "    #     # Pausa\n",
    "    #     time.sleep(random.uniform(1, 2))\n",
    "\n",
    "except Exception as e:\n",
    "    print(f\"Error al establecer la conexión SSH: {e}\")\n",
    "\n",
    "# finally:\n",
    "    # Cerrar la conexión SSH si está abierta\n",
    "    # if ssh:\n",
    "    #     ssh.close()\n",
    "    #     print(\"Conexión SSH cerrada.\")\n"
   ]
  },
  {
   "cell_type": "code",
   "execution_count": 4,
   "metadata": {},
   "outputs": [
    {
     "name": "stdout",
     "output_type": "stream",
     "text": [
      "Traduciendo: Hello, world! (tipo: <class 'str'>)\n",
      "Error al realizar la traducción: 'list' object has no attribute 'strip'\n",
      "Traduciendo: How are you? (tipo: <class 'str'>)\n",
      "Error al realizar la traducción: 'list' object has no attribute 'strip'\n",
      "Traduciendo: This is a test. (tipo: <class 'str'>)\n",
      "Error al realizar la traducción: 'list' object has no attribute 'strip'\n"
     ]
    }
   ],
   "source": [
    "from textblob import TextBlob\n",
    "import time\n",
    "import random\n",
    "\n",
    "def traducir_eng_spa(texto):\n",
    "    # Imprimir el tipo de dato y el contenido de 'texto'\n",
    "    print(f\"Traduciendo: {texto} (tipo: {type(texto)})\")\n",
    "\n",
    "    # Verificar que 'texto' sea una cadena (string)\n",
    "    if isinstance(texto, str):\n",
    "        blob = TextBlob(texto)\n",
    "        return str(blob.translate(to='es'))\n",
    "    else:\n",
    "        raise TypeError(\"El texto a traducir debe ser una cadena (string), no un/a {type(texto)}.\")\n",
    "\n",
    "# Lista de textos a traducir\n",
    "textos = [\"Hello, world!\", \"How are you?\", \"This is a test.\"]\n",
    "\n",
    "# Iterar sobre los textos y traducir cada uno\n",
    "for texto in textos:\n",
    "    try:\n",
    "        texto_traducido = traducir_eng_spa(texto)\n",
    "        print(texto_traducido)\n",
    "    except Exception as e:\n",
    "        print(f\"Error al realizar la traducción: {e}\")\n",
    "\n",
    "    # Pausa\n",
    "    time.sleep(random.uniform(1, 2))\n"
   ]
  }
 ],
 "metadata": {
  "kernelspec": {
   "display_name": "mistral",
   "language": "python",
   "name": "python3"
  },
  "language_info": {
   "codemirror_mode": {
    "name": "ipython",
    "version": 3
   },
   "file_extension": ".py",
   "mimetype": "text/x-python",
   "name": "python",
   "nbconvert_exporter": "python",
   "pygments_lexer": "ipython3",
   "version": "3.10.13"
  },
  "orig_nbformat": 4
 },
 "nbformat": 4,
 "nbformat_minor": 2
}
