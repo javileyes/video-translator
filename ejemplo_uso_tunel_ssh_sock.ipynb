{
 "cells": [
  {
   "cell_type": "markdown",
   "metadata": {},
   "source": [
    "<H1> EJEMPLO DE USO HACER UN TUNEL PARA ACCEDER A UNA PAGINA WEB CON OTRA IP (TENEMOS LA IP NORMAL YA INHABILITADA) Y USAR WGET CON HEASER CON LAS KOOKIES NECESARIAS DE IDENTIFICACION PARA DESCARGARNOS EL SITIO WEB COMPLETO </h1>"
   ]
  },
  {
   "cell_type": "code",
   "execution_count": 2,
   "metadata": {},
   "outputs": [
    {
     "data": {
      "text/plain": [
       "False"
      ]
     },
     "execution_count": 2,
     "metadata": {},
     "output_type": "execute_result"
    }
   ],
   "source": [
    "import tunel_ssh_socks as tunel\n",
    "tunel.esta_activo_tunel_ssh()"
   ]
  },
  {
   "cell_type": "code",
   "execution_count": 3,
   "metadata": {},
   "outputs": [
    {
     "name": "stdout",
     "output_type": "stream",
     "text": [
      "\u001b[32m[PM2] \u001b[39mStarting /usr/bin/bash in fork_mode (1 instance)\n",
      "\u001b[32m[PM2] \u001b[39mDone.\n",
      "\u001b[90m┌────┬──────────────┬─────────────┬─────────┬─────────┬──────────┬────────┬──────┬───────────┬──────────┬──────────┬──────────┬──────────┐\u001b[39m\n",
      "\u001b[90m│\u001b[39m\u001b[1m\u001b[36m id \u001b[39m\u001b[22m\u001b[90m│\u001b[39m\u001b[1m\u001b[36m name         \u001b[39m\u001b[22m\u001b[90m│\u001b[39m\u001b[1m\u001b[36m namespace   \u001b[39m\u001b[22m\u001b[90m│\u001b[39m\u001b[1m\u001b[36m version \u001b[39m\u001b[22m\u001b[90m│\u001b[39m\u001b[1m\u001b[36m mode    \u001b[39m\u001b[22m\u001b[90m│\u001b[39m\u001b[1m\u001b[36m pid      \u001b[39m\u001b[22m\u001b[90m│\u001b[39m\u001b[1m\u001b[36m uptime \u001b[39m\u001b[22m\u001b[90m│\u001b[39m\u001b[1m\u001b[36m ↺    \u001b[39m\u001b[22m\u001b[90m│\u001b[39m\u001b[1m\u001b[36m status    \u001b[39m\u001b[22m\u001b[90m│\u001b[39m\u001b[1m\u001b[36m cpu      \u001b[39m\u001b[22m\u001b[90m│\u001b[39m\u001b[1m\u001b[36m mem      \u001b[39m\u001b[22m\u001b[90m│\u001b[39m\u001b[1m\u001b[36m user     \u001b[39m\u001b[22m\u001b[90m│\u001b[39m\u001b[1m\u001b[36m watching \u001b[39m\u001b[22m\u001b[90m│\u001b[39m\n",
      "\u001b[90m├───��┼──────────────┼─────────────┼─────────┼─────────┼──────────┼────────┼──────┼───────────┼──────────┼──────────┼──────────┼──────────┤\u001b[39m\n",
      "\u001b[90m│\u001b[39m\u001b[1m\u001b[36m \u001b[1m\u001b[36m0\u001b[39m\u001b[36m\u001b[22m\u001b[1m  \u001b[39m\u001b[22m\u001b[90m│\u001b[39m tunel-ssh    \u001b[90m│\u001b[39m default     \u001b[90m│\u001b[39m N/A     \u001b[90m│\u001b[39m \u001b[7m\u001b[1mfork\u001b[22m\u001b[27m    \u001b[90m│\u001b[39m 6360     \u001b[90m│\u001b[39m 0s     \u001b[90m│\u001b[39m 0    \u001b[90m│\u001b[39m \u001b[32m\u001b[1monline\u001b[22m\u001b[39m    \u001b[90m│\u001b[39m 0%       \u001b[90m│\u001b[39m 2.6mb    \u001b[90m│\u001b[39m \u001b[1mjavier\u001b[22m   \u001b[90m│\u001b[39m \u001b[90mdisabled\u001b[39m \u001b[90m│\u001b[39m\n",
      "\u001b[90m└────┴──────────────┴─────────────┴─────────┴─────────┴────��─────┴────────┴──────┴───────────┴──────────┴──────────┴──────────┴──────────┘\u001b[39m\n",
      "Configurando el proxy SOCKS en localhost:5559...\n",
      "esta_activo: True\n"
     ]
    }
   ],
   "source": [
    "import tunel_ssh_socks as tunel\n",
    "#Configuración del servidor SSH y credenciales\n",
    "ssh_host = \"74.208.163.90\"  # IP del servidor SSH\n",
    "local_port = 5559               # Puerto SSH\n",
    "username = \"root\"     \n",
    "path_to_private_key = \"./.ssh/tunel\"  # Ruta clave privada SSH\n",
    "\n",
    "# crear tunel si no existe\n",
    "if not tunel.esta_activo_tunel_ssh():\n",
    "    tunel.crear_tunel_ssh(local_port, username, ssh_host, path_to_private_key)\n",
    "    tunel.crear_proxy_socks(local_port)\n",
    "    print(\"esta_activo:\", tunel.esta_activo_tunel_ssh())\n",
    "    tunel.obtener_informacion_ip()\n"
   ]
  },
  {
   "cell_type": "code",
   "execution_count": 4,
   "metadata": {},
   "outputs": [
    {
     "data": {
      "text/plain": [
       "True"
      ]
     },
     "execution_count": 4,
     "metadata": {},
     "output_type": "execute_result"
    }
   ],
   "source": [
    "tunel.esta_activo_tunel_ssh()"
   ]
  },
  {
   "cell_type": "code",
   "execution_count": 8,
   "metadata": {},
   "outputs": [
    {
     "data": {
      "text/plain": [
       "'Dirección IP: 82.213.218.57\\nPaís: ES\\nRegión: Valencia\\nCiudad: Alcoy'"
      ]
     },
     "execution_count": 8,
     "metadata": {},
     "output_type": "execute_result"
    }
   ],
   "source": [
    "tunel.obtener_informacion_ip()"
   ]
  },
  {
   "cell_type": "code",
   "execution_count": 1,
   "metadata": {},
   "outputs": [],
   "source": [
    "# crear carpeta pagina_web_finetunning_mistral si no existe\n",
    "import os\n",
    "if not os.path.exists('pagina_web_finetunning_mistral'):\n",
    "    os.makedirs('pagina_web_finetunning_mistral')\n"
   ]
  },
  {
   "cell_type": "markdown",
   "metadata": {},
   "source": [
    "Descargar pagina web con todo su contenido y luego hay que quitar una parte del codigo html que redireccionaba a 404, era un enlace <script> con un javascript que se veia en las herramientas de desarrollador de firefox en la parte de network."
   ]
  },
  {
   "cell_type": "code",
   "execution_count": 6,
   "metadata": {},
   "outputs": [
    {
     "name": "stderr",
     "output_type": "stream",
     "text": [
      "--2023-12-20 12:16:16--  https://medium.com/@geronimo7/finetuning-llama2-mistral-945f9c200611\n",
      "Resolving medium.com (medium.com)... 162.159.152.4, 162.159.153.4, 2606:4700:7::a29f:9804, ...\n",
      "Connecting to medium.com (medium.com)|162.159.152.4|:443... connected.\n",
      "HTTP request sent, awaiting response... 200 OK\n",
      "Length: unspecified [text/html]\n",
      "Saving to: ‘medium.com/@geronimo7/finetuning-llama2-mistral-945f9c200611.html’\n",
      "\n",
      "     0K .......... .......... .......... .......... .......... 3.22M\n",
      "    50K .......... .......... .......... .......... .......... 3.18M\n",
      "   100K .......... .......... .......... .......... .......... 2.90M\n",
      "   150K .......... .......... .......... .......... .......... 18.8M\n",
      "   200K .......... .......... .......... .......... .........  27.0M=0.05s\n",
      "\n",
      "Last-modified header missing -- time-stamps turned off.\n",
      "2023-12-20 12:16:17 (4.71 MB/s) - ‘medium.com/@geronimo7/finetuning-llama2-mistral-945f9c200611.html’ saved [255598]\n",
      "\n",
      "Loading robots.txt; please ignore errors.\n",
      "--2023-12-20 12:16:18--  https://medium.com/robots.txt\n",
      "Reusing existing connection to medium.com:443.\n",
      "HTTP request sent, awaiting response... 200 OK\n",
      "Length: 554 [text/plain]\n",
      "Saving to: ‘medium.com/robots.txt’\n",
      "\n",
      "     0K                                                       100%  210M=0s\n",
      "\n",
      "2023-12-20 12:16:18 (210 MB/s) - ‘medium.com/robots.txt’ saved [554/554]\n",
      "\n",
      "--2023-12-20 12:16:18--  https://medium.com/@geronimo7/from-transcripts-to-ai-chat-an-experiment-with-the-lex-fridman-podcast-3248d216ec16\n",
      "Reusing existing connection to medium.com:443.\n",
      "HTTP request sent, awaiting response... 200 OK\n",
      "Length: unspecified [text/html]\n",
      "Saving to: ‘medium.com/@geronimo7/from-transcripts-to-ai-chat-an-experiment-with-the-lex-fridman-podcast-3248d216ec16.html’\n",
      "\n",
      "     0K .......... .......... .......... .......... .......... 5.11M\n",
      "    50K .......... .......... .......... .......... .......... 7.45M\n",
      "   100K .......... .......... .......... .......... .......... 11.4M\n",
      "   150K .......... .......... .......... .......... .......... 4.36M\n",
      "   200K .......... .......... .......... .......... .......... 13.6M\n",
      "   250K .......... .........                                   25.2M=0.04s\n",
      "\n",
      "Last-modified header missing -- time-stamps turned off.\n",
      "2023-12-20 12:16:18 (7.32 MB/s) - ‘medium.com/@geronimo7/from-transcripts-to-ai-chat-an-experiment-with-the-lex-fridman-podcast-3248d216ec16.html’ saved [275756]\n",
      "\n",
      "--2023-12-20 12:16:18--  https://medium.com/@geronimo7/reproducing-guanaco-141a6a85a3f7\n",
      "Reusing existing connection to medium.com:443.\n",
      "HTTP request sent, awaiting response... 200 OK\n",
      "Length: unspecified [text/html]\n",
      "Saving to: ‘medium.com/@geronimo7/reproducing-guanaco-141a6a85a3f7.html’\n",
      "\n",
      "     0K .......... .......... .......... .......... .......... 29.1M\n",
      "    50K .......... .......... .......... .......... .......... 9.87M\n",
      "   100K .......... .......... .......... .......... .......... 3.40M\n",
      "   150K .......... .......                                     3.67M=0.03s\n",
      "\n",
      "Last-modified header missing -- time-stamps turned off.\n",
      "2023-12-20 12:16:19 (6.38 MB/s) - ‘medium.com/@geronimo7/reproducing-guanaco-141a6a85a3f7.html’ saved [171445]\n",
      "\n",
      "--2023-12-20 12:16:19--  https://medium.com/@geronimo7/followers?source=post_page-----945f9c200611--------------------------------\n",
      "Reusing existing connection to medium.com:443.\n",
      "HTTP request sent, awaiting response... 200 OK\n",
      "Length: unspecified [text/html]\n",
      "Saving to: ‘medium.com/@geronimo7/followers?source=post_page-----945f9c200611--------------------------------.html’\n",
      "\n",
      "     0K .......... .......... .......... .......... .......... 21.1M\n",
      "    50K .......... .......... .......... ..........            8.82M=0.007s\n",
      "\n",
      "Last-modified header missing -- time-stamps turned off.\n",
      "2023-12-20 12:16:19 (13.0 MB/s) - ‘medium.com/@geronimo7/followers?source=post_page-----945f9c200611--------------------------------.html’ saved [92463]\n",
      "\n",
      "--2023-12-20 12:16:20--  https://medium.com/@geronimo7/followers?source=post_page-----3248d216ec16--------------------------------\n",
      "Reusing existing connection to medium.com:443.\n",
      "HTTP request sent, awaiting response... 200 OK\n",
      "Length: unspecified [text/html]\n",
      "Saving to: ‘medium.com/@geronimo7/followers?source=post_page-----3248d216ec16--------------------------------.html’\n",
      "\n",
      "     0K .......... .......... .......... .......... .......... 17.6M\n",
      "    50K .......... .......... .......... ..........            19.9M=0.005s\n",
      "\n",
      "Last-modified header missing -- time-stamps turned off.\n",
      "2023-12-20 12:16:20 (18.6 MB/s) - ‘medium.com/@geronimo7/followers?source=post_page-----3248d216ec16--------------------------------.html’ saved [92508]\n",
      "\n",
      "--2023-12-20 12:16:20--  https://medium.com/@geronimo7/open-source-chatbots-in-the-wild-9a44d7a41a48\n",
      "Reusing existing connection to medium.com:443.\n",
      "HTTP request sent, awaiting response... 200 OK\n",
      "Length: unspecified [text/html]\n",
      "Saving to: ‘medium.com/@geronimo7/open-source-chatbots-in-the-wild-9a44d7a41a48.html’\n",
      "\n",
      "     0K .......... .......... .......... .......... .......... 19.4M\n",
      "    50K .......... .......... .......... .......... .......... 18.7M\n",
      "   100K .......... .......... .......... .......... .......... 6.05M\n",
      "   150K .......... .......... .......... .......... .......... 34.4M\n",
      "   200K .......... .......... .......... .......... .......... 38.1M\n",
      "   250K .......... .......... .......... .......... .......... 36.0M\n",
      "   300K .......... .......... .......... ....                  43.2M=0.02s\n",
      "\n",
      "Last-modified header missing -- time-stamps turned off.\n",
      "2023-12-20 12:16:21 (18.1 MB/s) - ‘medium.com/@geronimo7/open-source-chatbots-in-the-wild-9a44d7a41a48.html’ saved [342564]\n",
      "\n",
      "--2023-12-20 12:16:21--  https://medium.com/@geronimo7/followers?source=post_page-----141a6a85a3f7--------------------------------\n",
      "Reusing existing connection to medium.com:443.\n",
      "HTTP request sent, awaiting response... 200 OK\n",
      "Length: unspecified [text/html]\n",
      "Saving to: ‘medium.com/@geronimo7/followers?source=post_page-----141a6a85a3f7--------------------------------.html’\n",
      "\n",
      "     0K .......... .......... .......... .......... .......... 26.5M\n",
      "    50K .......... .......... .......... ..........            24.2M=0.003s\n",
      "\n",
      "Last-modified header missing -- time-stamps turned off.\n",
      "2023-12-20 12:16:25 (25.4 MB/s) - ‘medium.com/@geronimo7/followers?source=post_page-----141a6a85a3f7--------------------------------.html’ saved [92457]\n",
      "\n",
      "--2023-12-20 12:16:25--  https://medium.com/@geronimo7/followers?source=post_page-----9a44d7a41a48--------------------------------\n",
      "Reusing existing connection to medium.com:443.\n",
      "HTTP request sent, awaiting response... 200 OK\n",
      "Length: unspecified [text/html]\n",
      "Saving to: ‘medium.com/@geronimo7/followers?source=post_page-----9a44d7a41a48--------------------------------.html’\n",
      "\n",
      "     0K .......... .......... .......... .......... .......... 3.84M\n",
      "    50K .......... .......... .......... ..........            10.2M=0.02s\n",
      "\n",
      "Last-modified header missing -- time-stamps turned off.\n",
      "2023-12-20 12:16:25 (5.32 MB/s) - ‘medium.com/@geronimo7/followers?source=post_page-----9a44d7a41a48--------------------------------.html’ saved [92470]\n",
      "\n",
      "FINISHED --2023-12-20 12:16:25--\n",
      "Total wall clock time: 8.8s\n",
      "Downloaded: 9 files, 1.3M in 0.2s (8.29 MB/s)\n",
      "Converting links in medium.com/@geronimo7/followers?source=post_page-----3248d216ec16--------------------------------.html... 33.\n",
      "0-33\n",
      "Converting links in medium.com/@geronimo7/followers?source=post_page-----141a6a85a3f7--------------------------------.html... 33.\n",
      "0-33\n",
      "Converting links in medium.com/@geronimo7/reproducing-guanaco-141a6a85a3f7.html... 19.\n",
      "4-15\n",
      "Converting links in medium.com/@geronimo7/open-source-chatbots-in-the-wild-9a44d7a41a48.html... 17.\n",
      "2-15\n",
      "Converting links in medium.com/@geronimo7/finetuning-llama2-mistral-945f9c200611.html... 20.\n",
      "4-16\n",
      "Converting links in medium.com/@geronimo7/followers?source=post_page-----9a44d7a41a48--------------------------------.html... 33.\n",
      "0-33\n",
      "Converting links in medium.com/@geronimo7/from-transcripts-to-ai-chat-an-experiment-with-the-lex-fridman-podcast-3248d216ec16.html... 15.\n",
      "2-13\n",
      "Converting links in medium.com/@geronimo7/followers?source=post_page-----945f9c200611--------------------------------.html... 33.\n",
      "0-33\n",
      "Converted links in 8 files in 0.2 seconds.\n"
     ]
    }
   ],
   "source": [
    "%%bash\n",
    "cd pagina_web_finetunning_mistral \n",
    "wget --mirror --convert-links --adjust-extension --page-requisites --no-parent --header \"Cookie: uid=31111ef2624d; sid=1:WDUqzab2fpd6SuXJSMFB25HT4mUQp44yJJxwnNuNFA0hQQsQjZVCgrBtzesjZVLF; _ga_7JY7T788PK=GS1.1.1703070623.2.0.1703070623.0.0.0; _ga=GA1.1.36034137.1702767306; lightstep_guid/medium-web=f391acc4a9f02f32; lightstep_session_id=19e24c8e07aa3fbb; sz=1920; pr=1; tz=-60; __stripe_mid=b471bb8a-20a7-4706-addb-277430883d695b46a8; _dd_s=rum=0&expire=1703071521584; xsrf=ae3ca468dd93\" https://medium.com/@geronimo7/finetuning-llama2-mistral-945f9c200611"
   ]
  },
  {
   "cell_type": "code",
   "execution_count": 7,
   "metadata": {},
   "outputs": [
    {
     "name": "stdout",
     "output_type": "stream",
     "text": [
      "\u001b[32m[PM2] \u001b[39mApplying action deleteProcessId on app [tunel-ssh](ids: [ 0 ])\n",
      "\u001b[32m[PM2] \u001b[39m[tunel-ssh](0) ✓\n",
      "\u001b[90m┌────┬───────────┬─────────────┬─────────┬─────────┬──────────┬────────┬──────┬───────────┬──────────┬──────────┬──────────┬──────────┐\u001b[39m\n",
      "\u001b[90m│\u001b[39m\u001b[1m\u001b[36m id \u001b[39m\u001b[22m\u001b[90m│\u001b[39m\u001b[1m\u001b[36m name      \u001b[39m\u001b[22m\u001b[90m│\u001b[39m\u001b[1m\u001b[36m namespace   \u001b[39m\u001b[22m\u001b[90m│\u001b[39m\u001b[1m\u001b[36m version \u001b[39m\u001b[22m\u001b[90m│\u001b[39m\u001b[1m\u001b[36m mode    \u001b[39m\u001b[22m\u001b[90m│\u001b[39m\u001b[1m\u001b[36m pid      \u001b[39m\u001b[22m\u001b[90m│\u001b[39m\u001b[1m\u001b[36m uptime \u001b[39m\u001b[22m\u001b[90m│\u001b[39m\u001b[1m\u001b[36m ↺    \u001b[39m\u001b[22m\u001b[90m│\u001b[39m\u001b[1m\u001b[36m status    \u001b[39m\u001b[22m\u001b[90m│\u001b[39m\u001b[1m\u001b[36m cpu      \u001b[39m\u001b[22m\u001b[90m│\u001b[39m\u001b[1m\u001b[36m mem      \u001b[39m\u001b[22m\u001b[90m│\u001b[39m\u001b[1m\u001b[36m user     \u001b[39m\u001b[22m\u001b[90m│\u001b[39m\u001b[1m\u001b[36m watching \u001b[39m\u001b[22m\u001b[90m│\u001b[39m\n",
      "\u001b[90m└────┴──��────────┴─────────────┴─────────┴─────────┴──────────┴────────┴──────┴───────────┴──────────┴──────────┴──────────┴──────────┘\u001b[39m\n"
     ]
    }
   ],
   "source": [
    "tunel.cerrar_tunel_ssh()"
   ]
  }
 ],
 "metadata": {
  "kernelspec": {
   "display_name": "mistral",
   "language": "python",
   "name": "python3"
  },
  "language_info": {
   "codemirror_mode": {
    "name": "ipython",
    "version": 3
   },
   "file_extension": ".py",
   "mimetype": "text/x-python",
   "name": "python",
   "nbconvert_exporter": "python",
   "pygments_lexer": "ipython3",
   "version": "3.10.13"
  }
 },
 "nbformat": 4,
 "nbformat_minor": 2
}
